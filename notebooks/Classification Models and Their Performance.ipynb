{
 "cells": [
  {
   "cell_type": "code",
   "execution_count": 1,
   "metadata": {
    "collapsed": true
   },
   "outputs": [],
   "source": [
    "import numpy as np\n",
    "import pandas as pd\n",
    "pd.set_option('display.width', 500)\n",
    "pd.set_option('display.max_columns', 100)\n",
    "import matplotlib\n",
    "import matplotlib.pyplot as plt\n",
    "%matplotlib inline\n",
    "import seaborn as sns\n",
    "sns.set_style('white')\n",
    "sns.set_context('paper', font_scale=1.5)\n",
    "\n",
    "from sklearn.dummy import DummyClassifier\n",
    "from sklearn.linear_model import LogisticRegressionCV\n",
    "from sklearn.linear_model import LogisticRegression\n",
    "import sklearn.metrics as metrics\n",
    "from sklearn.discriminant_analysis import LinearDiscriminantAnalysis\n",
    "from sklearn.discriminant_analysis import QuadraticDiscriminantAnalysis\n",
    "from sklearn.neighbors import KNeighborsClassifier \n",
    "from sklearn.model_selection import cross_val_score\n",
    "from sklearn import svm\n",
    "from sklearn.tree import DecisionTreeClassifier\n",
    "from sklearn.ensemble import RandomForestClassifier\n",
    "from sklearn.ensemble import AdaBoostClassifier\n",
    "from sklearn.model_selection import GridSearchCV\n",
    "from sklearn.model_selection import KFold\n",
    "from sklearn.metrics import confusion_matrix\n",
    "\n",
    "import warnings\n",
    "warnings.filterwarnings('ignore')"
   ]
  },
  {
   "cell_type": "markdown",
   "metadata": {},
   "source": [
    "## Load data"
   ]
  },
  {
   "cell_type": "code",
   "execution_count": 2,
   "metadata": {
    "collapsed": true
   },
   "outputs": [],
   "source": [
    "df_train = pd.read_csv(\"data/ADNIMERGE_train.csv\")\n",
    "df_test = pd.read_csv(\"data/ADNIMERGE_test.csv\")"
   ]
  },
  {
   "cell_type": "code",
   "execution_count": 3,
   "metadata": {
    "collapsed": true
   },
   "outputs": [],
   "source": [
    "X_train = df_train.drop(['RID', 'DX_bl'], axis=1).copy()\n",
    "y_train = df_train['DX_bl'].copy()\n",
    "X_test = df_test.drop(['RID', 'DX_bl'], axis=1).copy()\n",
    "y_test = df_test['DX_bl'].copy()"
   ]
  },
  {
   "cell_type": "code",
   "execution_count": 4,
   "metadata": {
    "collapsed": true
   },
   "outputs": [],
   "source": [
    "# function to help compare the accuracy of models\n",
    "def score(model, X_train, y_train, X_test, y_test):\n",
    "    train_acc = model.score(X_train,y_train)\n",
    "    test_acc = model.score(X_test,y_test)\n",
    "    test_class0 = model.score(X_test[y_test==0], y_test[y_test==0])\n",
    "    test_class1 = model.score(X_test[y_test==1], y_test[y_test==1])\n",
    "    test_class2 = model.score(X_test[y_test==2], y_test[y_test==2])\n",
    "    return pd.Series([train_acc, test_acc, test_class0, test_class1, test_class2],\n",
    "                    index = ['Train accuracy', 'Test accuracy', \n",
    "                             \"Test accuracy CN\", \"Test accuracy CI\", \"Test accuracy AD\"])"
   ]
  },
  {
   "cell_type": "markdown",
   "metadata": {},
   "source": [
    "## Baseline Model"
   ]
  },
  {
   "cell_type": "markdown",
   "metadata": {},
   "source": [
    "We used `stratified` strategy to generate predictions as a simple baseline to compare with other classifiers we learned in class."
   ]
  },
  {
   "cell_type": "code",
   "execution_count": 5,
   "metadata": {},
   "outputs": [
    {
     "name": "stdout",
     "output_type": "stream",
     "text": [
      "Dummy Classifier Training Score:  0.423510466989\n",
      "Dummy Classifier Test Score:  0.444444444444\n",
      "Dummy Classifier Confusion Matrix:\n",
      " [[14 19  9]\n",
      " [27 52 14]\n",
      " [ 7 14  6]]\n"
     ]
    }
   ],
   "source": [
    "dc = DummyClassifier(strategy='stratified', random_state=9001)\n",
    "dc.fit(X_train,y_train)\n",
    "print('Dummy Classifier Training Score: ', dc.score(X_train,y_train))\n",
    "print('Dummy Classifier Test Score: ', dc.score(X_test,y_test))\n",
    "print('Dummy Classifier Confusion Matrix:\\n', confusion_matrix(y_test,dc.predict(X_test)))\n",
    "dc_score = score(dc, X_train, y_train, X_test, y_test)"
   ]
  },
  {
   "cell_type": "markdown",
   "metadata": {},
   "source": [
    "## Logistic Regression"
   ]
  },
  {
   "cell_type": "markdown",
   "metadata": {},
   "source": [
    "We tested 6 kinds of logistic regression, logistic regression with l1 penalty, logistic regression with l2 penalty, unweighted logistic regression, weighted logistic regression, one-vs-rest logistic regression and multinomial logistic regression. We chose the best parameters with cross validation. We found that a large regularization term is needed for all classifiers, indicating that we have too many variables."
   ]
  },
  {
   "cell_type": "code",
   "execution_count": 6,
   "metadata": {},
   "outputs": [
    {
     "name": "stdout",
     "output_type": "stream",
     "text": [
      "Regularization strength: \n",
      "-------------------------\n",
      "Logistic regression with l1 penalty: 0.35938136638\n",
      "Logistic regression with l2 penalty: 0.0001\n",
      "Unweighted logistic regression:  0.0001\n",
      "Weighted logistic regression:  0.0464158883361\n",
      "OVR logistic regression:  0.0001\n",
      "Multinomial logistic regression:  2.78255940221\n"
     ]
    }
   ],
   "source": [
    "#l1\n",
    "log_l1 = LogisticRegressionCV(penalty = 'l1', solver = 'liblinear', random_state=9001)\n",
    "log_l1.fit(X_train,y_train)\n",
    "\n",
    "#l2\n",
    "log_l2 = LogisticRegressionCV(penalty = 'l2', random_state=9001)\n",
    "log_l2.fit(X_train,y_train)\n",
    "\n",
    "#Unweighted logistic regression\n",
    "unweighted_logistic = LogisticRegressionCV(random_state=9001)\n",
    "unweighted_logistic.fit(X_train,y_train)\n",
    "\n",
    "#Weighted logistic regression\n",
    "weighted_logistic = LogisticRegressionCV(class_weight='balanced', random_state=9001)\n",
    "weighted_logistic.fit(X_train,y_train)\n",
    "\n",
    "#ovr\n",
    "log_ovr = LogisticRegressionCV(multi_class = 'ovr', random_state=9001)\n",
    "log_ovr.fit(X_train,y_train)\n",
    "\n",
    "#multinomial\n",
    "log_multinomial = LogisticRegressionCV(multi_class = 'multinomial', solver = 'newton-cg', random_state=9001)\n",
    "log_multinomial.fit(X_train,y_train)\n",
    "\n",
    "print(\"Regularization strength: \")\n",
    "print(\"-------------------------\")\n",
    "print(\"Logistic regression with l1 penalty:\", log_l1.C_[0])\n",
    "print(\"Logistic regression with l2 penalty:\", log_l2.C_[0])\n",
    "print(\"Unweighted logistic regression: \", unweighted_logistic.C_[0])\n",
    "print(\"Weighted logistic regression: \", weighted_logistic.C_[0])\n",
    "print(\"OVR logistic regression: \", log_ovr.C_[0])\n",
    "print(\"Multinomial logistic regression: \", log_multinomial.C_[0])"
   ]
  },
  {
   "cell_type": "code",
   "execution_count": 7,
   "metadata": {},
   "outputs": [
    {
     "name": "stdout",
     "output_type": "stream",
     "text": [
      "Training accuracy\n",
      "-------------------------------------------------\n",
      "Logistic Regression with l1 penalty train Score:  0.830917874396\n",
      "Logistic Regression with l2 penalty train Score:  0.621578099839\n",
      "Unweighted Logistic Regression with train Score:  0.621578099839\n",
      "Weighted Logistic Regression train Score:  0.495974235105\n",
      "OVR Logistic Regression train Score:  0.621578099839\n",
      "Multinomial Logistic Regression train Score:  0.845410628019\n",
      "\n",
      "\n",
      "Test accuracy\n",
      "-------------------------------------------------\n",
      "Logistic Regression with l1 penalty test Score:  0.827160493827\n",
      "Logistic Regression with l2 penalty test Score:  0.592592592593\n",
      "Unweighted Logistic Regression test Score:  0.592592592593\n",
      "Weighted Logistic Regression test Score:  0.395061728395\n",
      "OVR Logistic Regression test Score:  0.592592592593\n",
      "Multinomial Logistic Regression test Score:  0.796296296296\n"
     ]
    }
   ],
   "source": [
    "#Computing the score on the train set - \n",
    "print(\"Training accuracy\")\n",
    "print(\"-------------------------------------------------\")\n",
    "print('Logistic Regression with l1 penalty train Score: ',log_l1.score(X_train, y_train))\n",
    "print('Logistic Regression with l2 penalty train Score: ',log_l2.score(X_train, y_train))\n",
    "print('Unweighted Logistic Regression with train Score: ',unweighted_logistic.score(X_train, y_train))\n",
    "print('Weighted Logistic Regression train Score: ',weighted_logistic.score(X_train, y_train))\n",
    "print('OVR Logistic Regression train Score: ',log_ovr.score(X_train, y_train))\n",
    "print('Multinomial Logistic Regression train Score: ',log_multinomial.score(X_train, y_train))\n",
    "\n",
    "print('\\n')\n",
    "\n",
    "#Computing the score on the test set - \n",
    "print(\"Test accuracy\")\n",
    "print(\"-------------------------------------------------\")\n",
    "print('Logistic Regression with l1 penalty test Score: ',log_l1.score(X_test, y_test))\n",
    "print('Logistic Regression with l2 penalty test Score: ',log_l2.score(X_test, y_test))\n",
    "print('Unweighted Logistic Regression test Score: ',unweighted_logistic.score(X_test, y_test))\n",
    "print('Weighted Logistic Regression test Score: ',weighted_logistic.score(X_test, y_test))\n",
    "print('OVR Logistic Regression test Score: ',log_ovr.score(X_test, y_test))\n",
    "print('Multinomial Logistic Regression test Score: ',log_multinomial.score(X_test, y_test))"
   ]
  },
  {
   "cell_type": "code",
   "execution_count": 8,
   "metadata": {
    "collapsed": true
   },
   "outputs": [],
   "source": [
    "# store the accuracy score\n",
    "l1_score = score(log_l1, X_train, y_train, X_test, y_test)\n",
    "l2_score = score(log_l2, X_train, y_train, X_test, y_test)\n",
    "weighted_score = score(weighted_logistic, X_train, y_train, X_test, y_test)\n",
    "unweighted_score = score(unweighted_logistic, X_train, y_train, X_test, y_test)\n",
    "ovr_score = score(log_ovr, X_train, y_train, X_test, y_test)\n",
    "multi_score = score(log_multinomial, X_train, y_train, X_test, y_test)"
   ]
  },
  {
   "cell_type": "code",
   "execution_count": 9,
   "metadata": {},
   "outputs": [
    {
     "name": "stdout",
     "output_type": "stream",
     "text": [
      "Confusion Matrix\n",
      "Logistic Regression with l1 penalty:\n",
      " [[27 15  0]\n",
      " [ 5 84  4]\n",
      " [ 0  4 23]]\n",
      "Logistic Regression with l2 penalty:\n",
      " [[ 0 42  0]\n",
      " [ 0 85  8]\n",
      " [ 0 16 11]]\n",
      "Unweighted Logistic Regression:\n",
      " [[ 0 42  0]\n",
      " [ 0 85  8]\n",
      " [ 0 16 11]]\n",
      "Weighted Logistic Regression:\n",
      " [[35  2  5]\n",
      " [53 12 28]\n",
      " [ 6  4 17]]\n",
      "OVR Logistic Regression:\n",
      " [[ 0 42  0]\n",
      " [ 0 85  8]\n",
      " [ 0 16 11]]\n",
      "Multinomial Logistic Regression:\n",
      " [[28 14  0]\n",
      " [10 77  6]\n",
      " [ 0  3 24]]\n"
     ]
    }
   ],
   "source": [
    "# confusion matrix\n",
    "l1_pred = log_l1.predict(X_test)\n",
    "l2_pred = log_l2.predict(X_test)\n",
    "weighted_pred = weighted_logistic.predict(X_test)\n",
    "unweighted_pred = unweighted_logistic.predict(X_test)\n",
    "ovr_pred = log_ovr.predict(X_test)\n",
    "multi_pred = log_multinomial.predict(X_test)\n",
    "\n",
    "print(\"Confusion Matrix\")\n",
    "print(\"Logistic Regression with l1 penalty:\\n\",\n",
    "      confusion_matrix(y_test, l1_pred))\n",
    "print(\"Logistic Regression with l2 penalty:\\n\",\n",
    "      confusion_matrix(y_test, l2_pred))\n",
    "print(\"Unweighted Logistic Regression:\\n\",\n",
    "      confusion_matrix(y_test, unweighted_pred))\n",
    "print(\"Weighted Logistic Regression:\\n\",\n",
    "      confusion_matrix(y_test, weighted_pred))\n",
    "print(\"OVR Logistic Regression:\\n\",\n",
    "      confusion_matrix(y_test, ovr_pred))\n",
    "print(\"Multinomial Logistic Regression:\\n\",\n",
    "      confusion_matrix(y_test, multi_pred))"
   ]
  },
  {
   "cell_type": "markdown",
   "metadata": {},
   "source": [
    "## Discriminant Analysis"
   ]
  },
  {
   "cell_type": "markdown",
   "metadata": {},
   "source": [
    "We performed normalization on continuous predictors and used Linear Discriminant Analysis (LDA) and Quadratic Discriminant Analysis (QDA) as our models. LDA performs really well."
   ]
  },
  {
   "cell_type": "code",
   "execution_count": 11,
   "metadata": {
    "collapsed": true
   },
   "outputs": [],
   "source": [
    "# normalization\n",
    "cols_standardize = [\n",
    "    c for c in X_train.columns \n",
    "    if (not c.startswith('PT')) \\\n",
    "        or (c=='PTEDUCAT') or (c=='PTAGE')]\n",
    "\n",
    "X_train_std = X_train.copy()\n",
    "X_test_std = X_test.copy()\n",
    "for c in cols_standardize:\n",
    "    col_mean = np.mean(X_train[c])\n",
    "    col_sd = np.std(X_train[c])\n",
    "    if col_sd > (1e-10)*col_mean:\n",
    "        X_train_std[c] = (X_train[c]-col_mean)/col_sd\n",
    "        X_test_std[c] = (X_test[c]-col_mean)/col_sd"
   ]
  },
  {
   "cell_type": "code",
   "execution_count": 12,
   "metadata": {},
   "outputs": [
    {
     "data": {
      "text/html": [
       "<div>\n",
       "<style>\n",
       "    .dataframe thead tr:only-child th {\n",
       "        text-align: right;\n",
       "    }\n",
       "\n",
       "    .dataframe thead th {\n",
       "        text-align: left;\n",
       "    }\n",
       "\n",
       "    .dataframe tbody tr th {\n",
       "        vertical-align: top;\n",
       "    }\n",
       "</style>\n",
       "<table border=\"1\" class=\"dataframe\">\n",
       "  <thead>\n",
       "    <tr style=\"text-align: right;\">\n",
       "      <th></th>\n",
       "      <th>PTAGE</th>\n",
       "      <th>PTGENDER</th>\n",
       "      <th>PTEDUCAT</th>\n",
       "      <th>PTRACCAT_Asian</th>\n",
       "      <th>PTRACCAT_Black</th>\n",
       "      <th>PTRACCAT_Hawaiian/Other_PI</th>\n",
       "      <th>PTRACCAT_More_than_one</th>\n",
       "      <th>PTRACCAT_Unknown</th>\n",
       "      <th>PTRACCAT_White</th>\n",
       "      <th>PTETHCAT_Not_Hisp/Latino</th>\n",
       "      <th>PTMARRY_Married</th>\n",
       "      <th>PTMARRY_Never_married</th>\n",
       "      <th>PTMARRY_Widowed</th>\n",
       "      <th>APOE4</th>\n",
       "      <th>CSF_ABETA</th>\n",
       "      <th>CSF_TAU</th>\n",
       "      <th>CSF_PTAU</th>\n",
       "      <th>FDG</th>\n",
       "      <th>FDG_slope</th>\n",
       "      <th>AV45</th>\n",
       "      <th>AV45_slope</th>\n",
       "      <th>ADAS13</th>\n",
       "      <th>ADAS13_slope</th>\n",
       "      <th>MMSE</th>\n",
       "      <th>MMSE_slope</th>\n",
       "      <th>RAVLT_immediate</th>\n",
       "      <th>RAVLT_immediate_slope</th>\n",
       "      <th>RAVLT_learning</th>\n",
       "      <th>RAVLT_learning_slope</th>\n",
       "      <th>RAVLT_forgetting</th>\n",
       "      <th>RAVLT_forgetting_slope</th>\n",
       "      <th>RAVLT_perc_forgetting</th>\n",
       "      <th>RAVLT_perc_forgetting_slope</th>\n",
       "      <th>MOCA</th>\n",
       "      <th>MOCA_slope</th>\n",
       "      <th>EcogPtMem</th>\n",
       "      <th>EcogPtMem_slope</th>\n",
       "      <th>EcogPtLang</th>\n",
       "      <th>EcogPtLang_slope</th>\n",
       "      <th>EcogPtVisspat</th>\n",
       "      <th>EcogPtVisspat_slope</th>\n",
       "      <th>EcogPtPlan</th>\n",
       "      <th>EcogPtPlan_slope</th>\n",
       "      <th>EcogPtOrgan</th>\n",
       "      <th>EcogPtOrgan_slope</th>\n",
       "      <th>EcogPtDivatt</th>\n",
       "      <th>EcogPtDivatt_slope</th>\n",
       "      <th>EcogSPMem</th>\n",
       "      <th>EcogSPMem_slope</th>\n",
       "      <th>EcogSPLang</th>\n",
       "      <th>EcogSPLang_slope</th>\n",
       "      <th>EcogSPVisspat</th>\n",
       "      <th>EcogSPVisspat_slope</th>\n",
       "      <th>EcogSPPlan</th>\n",
       "      <th>EcogSPPlan_slope</th>\n",
       "      <th>EcogSPOrgan</th>\n",
       "      <th>EcogSPOrgan_slope</th>\n",
       "      <th>EcogSPDivatt</th>\n",
       "      <th>EcogSPDivatt_slope</th>\n",
       "      <th>FAQ</th>\n",
       "      <th>FAQ_slope</th>\n",
       "      <th>Ventricles</th>\n",
       "      <th>Ventricles_slope</th>\n",
       "      <th>Hippocampus</th>\n",
       "      <th>Hippocampus_slope</th>\n",
       "      <th>WholeBrain</th>\n",
       "      <th>WholeBrain_slope</th>\n",
       "      <th>Entorhinal</th>\n",
       "      <th>Entorhinal_slope</th>\n",
       "      <th>Fusiform</th>\n",
       "      <th>Fusiform_slope</th>\n",
       "      <th>MidTemp</th>\n",
       "      <th>MidTemp_slope</th>\n",
       "      <th>ICV</th>\n",
       "      <th>ICV_slope</th>\n",
       "    </tr>\n",
       "  </thead>\n",
       "  <tbody>\n",
       "    <tr>\n",
       "      <th>0</th>\n",
       "      <td>2.208480</td>\n",
       "      <td>0</td>\n",
       "      <td>-2.852257</td>\n",
       "      <td>0</td>\n",
       "      <td>0</td>\n",
       "      <td>0</td>\n",
       "      <td>0</td>\n",
       "      <td>0</td>\n",
       "      <td>1</td>\n",
       "      <td>1</td>\n",
       "      <td>0</td>\n",
       "      <td>0</td>\n",
       "      <td>1</td>\n",
       "      <td>-0.823084</td>\n",
       "      <td>-1.421715</td>\n",
       "      <td>1.137347</td>\n",
       "      <td>-0.321586</td>\n",
       "      <td>-0.833130</td>\n",
       "      <td>0.811782</td>\n",
       "      <td>1.257634</td>\n",
       "      <td>0.023763</td>\n",
       "      <td>2.140034</td>\n",
       "      <td>0.236256</td>\n",
       "      <td>-2.742373</td>\n",
       "      <td>-0.471665</td>\n",
       "      <td>-0.010026</td>\n",
       "      <td>-0.001926</td>\n",
       "      <td>0.003844</td>\n",
       "      <td>-0.000699</td>\n",
       "      <td>0.028414</td>\n",
       "      <td>-0.018332</td>\n",
       "      <td>0.019484</td>\n",
       "      <td>-0.012471</td>\n",
       "      <td>-0.003150</td>\n",
       "      <td>-0.004052</td>\n",
       "      <td>-0.827740</td>\n",
       "      <td>1.136728</td>\n",
       "      <td>-0.981277</td>\n",
       "      <td>-0.002156</td>\n",
       "      <td>-0.715234</td>\n",
       "      <td>-0.030329</td>\n",
       "      <td>-0.713577</td>\n",
       "      <td>-0.002410</td>\n",
       "      <td>-0.843488</td>\n",
       "      <td>-0.007633</td>\n",
       "      <td>-1.076964</td>\n",
       "      <td>-0.016544</td>\n",
       "      <td>1.929076</td>\n",
       "      <td>-0.088208</td>\n",
       "      <td>-0.844339</td>\n",
       "      <td>0.954666</td>\n",
       "      <td>1.066767</td>\n",
       "      <td>1.048123</td>\n",
       "      <td>2.524016</td>\n",
       "      <td>0.060641</td>\n",
       "      <td>2.287022</td>\n",
       "      <td>0.021430</td>\n",
       "      <td>2.330806</td>\n",
       "      <td>-0.631242</td>\n",
       "      <td>2.934694</td>\n",
       "      <td>0.124173</td>\n",
       "      <td>-0.205919</td>\n",
       "      <td>0.381384</td>\n",
       "      <td>-1.351616</td>\n",
       "      <td>0.022285</td>\n",
       "      <td>-1.761500</td>\n",
       "      <td>-0.567555</td>\n",
       "      <td>-0.820814</td>\n",
       "      <td>-1.269796</td>\n",
       "      <td>-1.426968</td>\n",
       "      <td>0.156847</td>\n",
       "      <td>-2.102069</td>\n",
       "      <td>-0.192827</td>\n",
       "      <td>-1.574482</td>\n",
       "      <td>0.093937</td>\n",
       "    </tr>\n",
       "    <tr>\n",
       "      <th>1</th>\n",
       "      <td>0.759714</td>\n",
       "      <td>1</td>\n",
       "      <td>1.376909</td>\n",
       "      <td>0</td>\n",
       "      <td>0</td>\n",
       "      <td>0</td>\n",
       "      <td>0</td>\n",
       "      <td>0</td>\n",
       "      <td>1</td>\n",
       "      <td>1</td>\n",
       "      <td>1</td>\n",
       "      <td>0</td>\n",
       "      <td>0</td>\n",
       "      <td>0.703236</td>\n",
       "      <td>-0.567568</td>\n",
       "      <td>-0.086517</td>\n",
       "      <td>-0.128000</td>\n",
       "      <td>0.602793</td>\n",
       "      <td>2.864460</td>\n",
       "      <td>1.903103</td>\n",
       "      <td>1.199280</td>\n",
       "      <td>-0.210782</td>\n",
       "      <td>-0.364551</td>\n",
       "      <td>0.586715</td>\n",
       "      <td>0.595629</td>\n",
       "      <td>0.202187</td>\n",
       "      <td>-0.189405</td>\n",
       "      <td>0.884055</td>\n",
       "      <td>-0.907178</td>\n",
       "      <td>-0.118596</td>\n",
       "      <td>1.750365</td>\n",
       "      <td>-0.556812</td>\n",
       "      <td>1.770545</td>\n",
       "      <td>0.227228</td>\n",
       "      <td>-0.044392</td>\n",
       "      <td>-0.827740</td>\n",
       "      <td>-0.229483</td>\n",
       "      <td>-1.153377</td>\n",
       "      <td>-0.000458</td>\n",
       "      <td>-0.444998</td>\n",
       "      <td>-0.101471</td>\n",
       "      <td>-0.713577</td>\n",
       "      <td>-0.065235</td>\n",
       "      <td>-0.843488</td>\n",
       "      <td>-0.064451</td>\n",
       "      <td>-1.076964</td>\n",
       "      <td>-0.072474</td>\n",
       "      <td>0.573694</td>\n",
       "      <td>-0.738447</td>\n",
       "      <td>-0.106940</td>\n",
       "      <td>-1.151805</td>\n",
       "      <td>0.487637</td>\n",
       "      <td>-1.687565</td>\n",
       "      <td>1.262926</td>\n",
       "      <td>-2.477232</td>\n",
       "      <td>0.148179</td>\n",
       "      <td>-1.526413</td>\n",
       "      <td>0.971872</td>\n",
       "      <td>-1.384981</td>\n",
       "      <td>-0.484392</td>\n",
       "      <td>-0.424658</td>\n",
       "      <td>-0.053348</td>\n",
       "      <td>-0.251084</td>\n",
       "      <td>0.483644</td>\n",
       "      <td>-0.306894</td>\n",
       "      <td>-0.134464</td>\n",
       "      <td>-0.028641</td>\n",
       "      <td>-0.070387</td>\n",
       "      <td>0.188014</td>\n",
       "      <td>0.721399</td>\n",
       "      <td>-0.067438</td>\n",
       "      <td>0.019784</td>\n",
       "      <td>0.506511</td>\n",
       "      <td>-0.489132</td>\n",
       "      <td>-0.265646</td>\n",
       "    </tr>\n",
       "    <tr>\n",
       "      <th>2</th>\n",
       "      <td>-0.257208</td>\n",
       "      <td>0</td>\n",
       "      <td>0.607970</td>\n",
       "      <td>0</td>\n",
       "      <td>0</td>\n",
       "      <td>0</td>\n",
       "      <td>0</td>\n",
       "      <td>0</td>\n",
       "      <td>1</td>\n",
       "      <td>1</td>\n",
       "      <td>1</td>\n",
       "      <td>0</td>\n",
       "      <td>0</td>\n",
       "      <td>-0.823084</td>\n",
       "      <td>-0.775573</td>\n",
       "      <td>-1.038657</td>\n",
       "      <td>-0.920353</td>\n",
       "      <td>0.572072</td>\n",
       "      <td>0.019993</td>\n",
       "      <td>0.547072</td>\n",
       "      <td>0.023763</td>\n",
       "      <td>-0.798486</td>\n",
       "      <td>-0.710060</td>\n",
       "      <td>0.586715</td>\n",
       "      <td>0.463914</td>\n",
       "      <td>1.183334</td>\n",
       "      <td>1.011032</td>\n",
       "      <td>0.884055</td>\n",
       "      <td>-0.590705</td>\n",
       "      <td>0.280068</td>\n",
       "      <td>-1.497230</td>\n",
       "      <td>-0.495770</td>\n",
       "      <td>-1.722958</td>\n",
       "      <td>0.452935</td>\n",
       "      <td>0.701979</td>\n",
       "      <td>-0.530055</td>\n",
       "      <td>-0.049247</td>\n",
       "      <td>-0.464974</td>\n",
       "      <td>-0.085273</td>\n",
       "      <td>-0.715234</td>\n",
       "      <td>-0.033968</td>\n",
       "      <td>-0.713577</td>\n",
       "      <td>-0.065235</td>\n",
       "      <td>-0.018265</td>\n",
       "      <td>0.055382</td>\n",
       "      <td>-0.053520</td>\n",
       "      <td>0.069781</td>\n",
       "      <td>-1.052764</td>\n",
       "      <td>0.042214</td>\n",
       "      <td>-0.844339</td>\n",
       "      <td>-0.077852</td>\n",
       "      <td>-0.670610</td>\n",
       "      <td>-0.211993</td>\n",
       "      <td>-0.754818</td>\n",
       "      <td>0.111691</td>\n",
       "      <td>-0.824015</td>\n",
       "      <td>-0.212459</td>\n",
       "      <td>-0.930635</td>\n",
       "      <td>0.246899</td>\n",
       "      <td>-0.647205</td>\n",
       "      <td>-0.415515</td>\n",
       "      <td>-0.294977</td>\n",
       "      <td>-0.883418</td>\n",
       "      <td>-1.104796</td>\n",
       "      <td>0.020857</td>\n",
       "      <td>-1.300396</td>\n",
       "      <td>0.310720</td>\n",
       "      <td>0.456478</td>\n",
       "      <td>-0.560840</td>\n",
       "      <td>0.292776</td>\n",
       "      <td>0.016824</td>\n",
       "      <td>-0.650452</td>\n",
       "      <td>0.224140</td>\n",
       "      <td>-1.239633</td>\n",
       "      <td>-0.014198</td>\n",
       "    </tr>\n",
       "    <tr>\n",
       "      <th>3</th>\n",
       "      <td>-0.521887</td>\n",
       "      <td>0</td>\n",
       "      <td>-0.160970</td>\n",
       "      <td>0</td>\n",
       "      <td>0</td>\n",
       "      <td>0</td>\n",
       "      <td>0</td>\n",
       "      <td>0</td>\n",
       "      <td>1</td>\n",
       "      <td>1</td>\n",
       "      <td>0</td>\n",
       "      <td>0</td>\n",
       "      <td>0</td>\n",
       "      <td>-0.823084</td>\n",
       "      <td>-0.445863</td>\n",
       "      <td>0.222762</td>\n",
       "      <td>0.322200</td>\n",
       "      <td>0.441716</td>\n",
       "      <td>0.850276</td>\n",
       "      <td>-0.548541</td>\n",
       "      <td>-0.049974</td>\n",
       "      <td>-0.994388</td>\n",
       "      <td>-0.282924</td>\n",
       "      <td>0.586715</td>\n",
       "      <td>0.519651</td>\n",
       "      <td>0.730497</td>\n",
       "      <td>0.190865</td>\n",
       "      <td>-0.546632</td>\n",
       "      <td>0.454839</td>\n",
       "      <td>-0.915923</td>\n",
       "      <td>1.164759</td>\n",
       "      <td>-1.032937</td>\n",
       "      <td>0.965802</td>\n",
       "      <td>0.678642</td>\n",
       "      <td>0.204009</td>\n",
       "      <td>0.387783</td>\n",
       "      <td>0.167724</td>\n",
       "      <td>0.223444</td>\n",
       "      <td>0.375527</td>\n",
       "      <td>-0.174781</td>\n",
       "      <td>0.049689</td>\n",
       "      <td>-0.007973</td>\n",
       "      <td>0.191936</td>\n",
       "      <td>0.531879</td>\n",
       "      <td>0.404523</td>\n",
       "      <td>1.652218</td>\n",
       "      <td>0.250482</td>\n",
       "      <td>-0.103997</td>\n",
       "      <td>-0.010217</td>\n",
       "      <td>-0.844339</td>\n",
       "      <td>-0.186429</td>\n",
       "      <td>-0.670610</td>\n",
       "      <td>-0.271617</td>\n",
       "      <td>-0.754818</td>\n",
       "      <td>-0.343706</td>\n",
       "      <td>-0.824015</td>\n",
       "      <td>-0.076909</td>\n",
       "      <td>-0.115275</td>\n",
       "      <td>0.065754</td>\n",
       "      <td>-0.484392</td>\n",
       "      <td>-0.473929</td>\n",
       "      <td>-0.005181</td>\n",
       "      <td>-0.032439</td>\n",
       "      <td>0.013960</td>\n",
       "      <td>0.020857</td>\n",
       "      <td>-0.000094</td>\n",
       "      <td>-0.003749</td>\n",
       "      <td>0.006635</td>\n",
       "      <td>-0.003683</td>\n",
       "      <td>0.010325</td>\n",
       "      <td>0.015345</td>\n",
       "      <td>0.018697</td>\n",
       "      <td>0.004091</td>\n",
       "      <td>-0.005136</td>\n",
       "      <td>0.004314</td>\n",
       "    </tr>\n",
       "    <tr>\n",
       "      <th>4</th>\n",
       "      <td>1.121905</td>\n",
       "      <td>1</td>\n",
       "      <td>-0.160970</td>\n",
       "      <td>0</td>\n",
       "      <td>0</td>\n",
       "      <td>0</td>\n",
       "      <td>0</td>\n",
       "      <td>0</td>\n",
       "      <td>1</td>\n",
       "      <td>1</td>\n",
       "      <td>0</td>\n",
       "      <td>0</td>\n",
       "      <td>1</td>\n",
       "      <td>-0.823084</td>\n",
       "      <td>-1.521292</td>\n",
       "      <td>0.516578</td>\n",
       "      <td>0.056582</td>\n",
       "      <td>0.613315</td>\n",
       "      <td>1.113319</td>\n",
       "      <td>1.781157</td>\n",
       "      <td>0.338415</td>\n",
       "      <td>-0.602585</td>\n",
       "      <td>-0.189067</td>\n",
       "      <td>0.586715</td>\n",
       "      <td>0.476561</td>\n",
       "      <td>-0.099704</td>\n",
       "      <td>0.488832</td>\n",
       "      <td>-0.546632</td>\n",
       "      <td>0.189374</td>\n",
       "      <td>-0.118596</td>\n",
       "      <td>0.780831</td>\n",
       "      <td>-0.160039</td>\n",
       "      <td>0.662249</td>\n",
       "      <td>-0.449892</td>\n",
       "      <td>0.202553</td>\n",
       "      <td>-0.133156</td>\n",
       "      <td>0.119957</td>\n",
       "      <td>-0.809176</td>\n",
       "      <td>0.038450</td>\n",
       "      <td>-0.444998</td>\n",
       "      <td>-0.146690</td>\n",
       "      <td>-0.360775</td>\n",
       "      <td>-0.127391</td>\n",
       "      <td>0.806959</td>\n",
       "      <td>-0.571339</td>\n",
       "      <td>0.287627</td>\n",
       "      <td>-0.263162</td>\n",
       "      <td>0.709232</td>\n",
       "      <td>0.108071</td>\n",
       "      <td>-0.401908</td>\n",
       "      <td>0.043380</td>\n",
       "      <td>-0.273501</td>\n",
       "      <td>0.072295</td>\n",
       "      <td>0.506272</td>\n",
       "      <td>-0.367695</td>\n",
       "      <td>1.120385</td>\n",
       "      <td>-0.514067</td>\n",
       "      <td>-0.115275</td>\n",
       "      <td>0.347360</td>\n",
       "      <td>-0.484392</td>\n",
       "      <td>-0.455347</td>\n",
       "      <td>-0.005181</td>\n",
       "      <td>-0.032439</td>\n",
       "      <td>1.295160</td>\n",
       "      <td>0.219009</td>\n",
       "      <td>-0.000094</td>\n",
       "      <td>-0.003749</td>\n",
       "      <td>0.006635</td>\n",
       "      <td>-0.003683</td>\n",
       "      <td>0.010325</td>\n",
       "      <td>0.015345</td>\n",
       "      <td>0.018697</td>\n",
       "      <td>0.004091</td>\n",
       "      <td>1.652198</td>\n",
       "      <td>-0.047345</td>\n",
       "    </tr>\n",
       "  </tbody>\n",
       "</table>\n",
       "</div>"
      ],
      "text/plain": [
       "      PTAGE  PTGENDER  PTEDUCAT  PTRACCAT_Asian  PTRACCAT_Black  PTRACCAT_Hawaiian/Other_PI  PTRACCAT_More_than_one  PTRACCAT_Unknown  PTRACCAT_White  PTETHCAT_Not_Hisp/Latino  PTMARRY_Married  PTMARRY_Never_married  PTMARRY_Widowed     APOE4  CSF_ABETA   CSF_TAU  CSF_PTAU       FDG  FDG_slope      AV45  AV45_slope    ADAS13  ADAS13_slope      MMSE  MMSE_slope  RAVLT_immediate  RAVLT_immediate_slope  RAVLT_learning  RAVLT_learning_slope  RAVLT_forgetting  RAVLT_forgetting_slope  \\\n",
       "0  2.208480         0 -2.852257               0               0                           0                       0                 0               1                         1                0                      0                1 -0.823084  -1.421715  1.137347 -0.321586 -0.833130   0.811782  1.257634    0.023763  2.140034      0.236256 -2.742373   -0.471665        -0.010026              -0.001926        0.003844             -0.000699          0.028414               -0.018332   \n",
       "1  0.759714         1  1.376909               0               0                           0                       0                 0               1                         1                1                      0                0  0.703236  -0.567568 -0.086517 -0.128000  0.602793   2.864460  1.903103    1.199280 -0.210782     -0.364551  0.586715    0.595629         0.202187              -0.189405        0.884055             -0.907178         -0.118596                1.750365   \n",
       "2 -0.257208         0  0.607970               0               0                           0                       0                 0               1                         1                1                      0                0 -0.823084  -0.775573 -1.038657 -0.920353  0.572072   0.019993  0.547072    0.023763 -0.798486     -0.710060  0.586715    0.463914         1.183334               1.011032        0.884055             -0.590705          0.280068               -1.497230   \n",
       "3 -0.521887         0 -0.160970               0               0                           0                       0                 0               1                         1                0                      0                0 -0.823084  -0.445863  0.222762  0.322200  0.441716   0.850276 -0.548541   -0.049974 -0.994388     -0.282924  0.586715    0.519651         0.730497               0.190865       -0.546632              0.454839         -0.915923                1.164759   \n",
       "4  1.121905         1 -0.160970               0               0                           0                       0                 0               1                         1                0                      0                1 -0.823084  -1.521292  0.516578  0.056582  0.613315   1.113319  1.781157    0.338415 -0.602585     -0.189067  0.586715    0.476561        -0.099704               0.488832       -0.546632              0.189374         -0.118596                0.780831   \n",
       "\n",
       "   RAVLT_perc_forgetting  RAVLT_perc_forgetting_slope      MOCA  MOCA_slope  EcogPtMem  EcogPtMem_slope  EcogPtLang  EcogPtLang_slope  EcogPtVisspat  EcogPtVisspat_slope  EcogPtPlan  EcogPtPlan_slope  EcogPtOrgan  EcogPtOrgan_slope  EcogPtDivatt  EcogPtDivatt_slope  EcogSPMem  EcogSPMem_slope  EcogSPLang  EcogSPLang_slope  EcogSPVisspat  EcogSPVisspat_slope  EcogSPPlan  EcogSPPlan_slope  EcogSPOrgan  EcogSPOrgan_slope  EcogSPDivatt  EcogSPDivatt_slope       FAQ  FAQ_slope  Ventricles  \\\n",
       "0               0.019484                    -0.012471 -0.003150   -0.004052  -0.827740         1.136728   -0.981277         -0.002156      -0.715234            -0.030329   -0.713577         -0.002410    -0.843488          -0.007633     -1.076964           -0.016544   1.929076        -0.088208   -0.844339          0.954666       1.066767             1.048123    2.524016          0.060641     2.287022           0.021430      2.330806           -0.631242  2.934694   0.124173   -0.205919   \n",
       "1              -0.556812                     1.770545  0.227228   -0.044392  -0.827740        -0.229483   -1.153377         -0.000458      -0.444998            -0.101471   -0.713577         -0.065235    -0.843488          -0.064451     -1.076964           -0.072474   0.573694        -0.738447   -0.106940         -1.151805       0.487637            -1.687565    1.262926         -2.477232     0.148179          -1.526413      0.971872           -1.384981 -0.484392  -0.424658   -0.053348   \n",
       "2              -0.495770                    -1.722958  0.452935    0.701979  -0.530055        -0.049247   -0.464974         -0.085273      -0.715234            -0.033968   -0.713577         -0.065235    -0.018265           0.055382     -0.053520            0.069781  -1.052764         0.042214   -0.844339         -0.077852      -0.670610            -0.211993   -0.754818          0.111691    -0.824015          -0.212459     -0.930635            0.246899 -0.647205  -0.415515   -0.294977   \n",
       "3              -1.032937                     0.965802  0.678642    0.204009   0.387783         0.167724    0.223444          0.375527      -0.174781             0.049689   -0.007973          0.191936     0.531879           0.404523      1.652218            0.250482  -0.103997        -0.010217   -0.844339         -0.186429      -0.670610            -0.271617   -0.754818         -0.343706    -0.824015          -0.076909     -0.115275            0.065754 -0.484392  -0.473929   -0.005181   \n",
       "4              -0.160039                     0.662249 -0.449892    0.202553  -0.133156         0.119957   -0.809176          0.038450      -0.444998            -0.146690   -0.360775         -0.127391     0.806959          -0.571339      0.287627           -0.263162   0.709232         0.108071   -0.401908          0.043380      -0.273501             0.072295    0.506272         -0.367695     1.120385          -0.514067     -0.115275            0.347360 -0.484392  -0.455347   -0.005181   \n",
       "\n",
       "   Ventricles_slope  Hippocampus  Hippocampus_slope  WholeBrain  WholeBrain_slope  Entorhinal  Entorhinal_slope  Fusiform  Fusiform_slope   MidTemp  MidTemp_slope       ICV  ICV_slope  \n",
       "0          0.381384    -1.351616           0.022285   -1.761500         -0.567555   -0.820814         -1.269796 -1.426968        0.156847 -2.102069      -0.192827 -1.574482   0.093937  \n",
       "1         -0.251084     0.483644          -0.306894   -0.134464         -0.028641   -0.070387          0.188014  0.721399       -0.067438  0.019784       0.506511 -0.489132  -0.265646  \n",
       "2         -0.883418    -1.104796           0.020857   -1.300396          0.310720    0.456478         -0.560840  0.292776        0.016824 -0.650452       0.224140 -1.239633  -0.014198  \n",
       "3         -0.032439     0.013960           0.020857   -0.000094         -0.003749    0.006635         -0.003683  0.010325        0.015345  0.018697       0.004091 -0.005136   0.004314  \n",
       "4         -0.032439     1.295160           0.219009   -0.000094         -0.003749    0.006635         -0.003683  0.010325        0.015345  0.018697       0.004091  1.652198  -0.047345  "
      ]
     },
     "execution_count": 12,
     "metadata": {},
     "output_type": "execute_result"
    }
   ],
   "source": [
    "X_train_std.head()"
   ]
  },
  {
   "cell_type": "code",
   "execution_count": 13,
   "metadata": {},
   "outputs": [
    {
     "name": "stdout",
     "output_type": "stream",
     "text": [
      "Training accuracy\n",
      "------------------\n",
      "LDA Train Score:  0.848631239936\n",
      "QDA Train Score:  0.819645732689\n",
      "\n",
      "\n",
      "Test accuracy\n",
      "------------------\n",
      "LDA Test Score:  0.814814814815\n",
      "QDA Test Score:  0.697530864198\n"
     ]
    }
   ],
   "source": [
    "lda = LinearDiscriminantAnalysis()\n",
    "qda = QuadraticDiscriminantAnalysis()\n",
    "\n",
    "lda.fit(X_train_std,y_train)\n",
    "qda.fit(X_train_std,y_train)\n",
    "\n",
    "# training accuracy\n",
    "print(\"Training accuracy\")\n",
    "print(\"------------------\")\n",
    "print('LDA Train Score: ',lda.score(X_train_std,y_train))\n",
    "print('QDA Train Score: ',qda.score(X_train_std,y_train))\n",
    "\n",
    "print('\\n')\n",
    "\n",
    "# test accuracy\n",
    "print(\"Test accuracy\")\n",
    "print(\"------------------\")\n",
    "print('LDA Test Score: ',lda.score(X_test_std,y_test))\n",
    "print('QDA Test Score: ',qda.score(X_test_std,y_test))"
   ]
  },
  {
   "cell_type": "code",
   "execution_count": 14,
   "metadata": {
    "collapsed": true
   },
   "outputs": [],
   "source": [
    "# store the accuracy score\n",
    "lda_score = score(lda, X_train_std, y_train, X_test_std, y_test)\n",
    "qda_score = score(qda, X_train_std, y_train, X_test_std, y_test)"
   ]
  },
  {
   "cell_type": "code",
   "execution_count": 15,
   "metadata": {},
   "outputs": [
    {
     "name": "stdout",
     "output_type": "stream",
     "text": [
      "Confusion Matrix\n",
      "LDA:\n",
      " [[30 12  0]\n",
      " [10 78  5]\n",
      " [ 1  2 24]]\n",
      "QDA:\n",
      " [[23 18  1]\n",
      " [ 6 70 17]\n",
      " [ 0  7 20]]\n"
     ]
    }
   ],
   "source": [
    "# confusion matrix\n",
    "lda_pred = lda.predict(X_test_std)\n",
    "qda_pred = qda.predict(X_test_std)\n",
    "\n",
    "print(\"Confusion Matrix\")\n",
    "print(\"LDA:\\n\",\n",
    "      confusion_matrix(y_test, lda_pred))\n",
    "print(\"QDA:\\n\",\n",
    "      confusion_matrix(y_test, qda_pred))"
   ]
  },
  {
   "cell_type": "markdown",
   "metadata": {},
   "source": [
    "## K-Nearest Neighbours"
   ]
  },
  {
   "cell_type": "markdown",
   "metadata": {},
   "source": [
    "The optimal number of neighbours is 41, which is a relatively large number considering that we only have 783 observations. The accuracy is not satisfactory as well."
   ]
  },
  {
   "cell_type": "code",
   "execution_count": 16,
   "metadata": {},
   "outputs": [
    {
     "name": "stdout",
     "output_type": "stream",
     "text": [
      "Optimal number of neighbours:  41\n",
      "KNN Training Accuracy:  0.566827697262\n",
      "KNN Test Accuracy:  0.574074074074\n"
     ]
    }
   ],
   "source": [
    "cv_fold = KFold(n_splits=5, shuffle=True, random_state=9001)\n",
    "\n",
    "max_score = 0\n",
    "max_k = 0 \n",
    "\n",
    "for k in range(1,60):\n",
    "    knn = KNeighborsClassifier(n_neighbors = k)\n",
    "    knn_val_score = cross_val_score(knn, X_train, y_train, cv=cv_fold).mean()\n",
    "    if knn_val_score > max_score:\n",
    "        max_k = k\n",
    "        max_score = knn_val_score\n",
    "        \n",
    "knn = KNeighborsClassifier(n_neighbors = max_k)\n",
    "knn.fit(X_train,y_train)\n",
    "\n",
    "print(\"Optimal number of neighbours: \", max_k)\n",
    "print('KNN Training Accuracy: ', knn.score(X_train,y_train))\n",
    "print('KNN Test Accuracy: ', knn.score(X_test,y_test))\n",
    "\n",
    "# Store the accuracy score\n",
    "knn_score = score(knn, X_train, y_train, X_test, y_test)"
   ]
  },
  {
   "cell_type": "code",
   "execution_count": 17,
   "metadata": {},
   "outputs": [
    {
     "name": "stdout",
     "output_type": "stream",
     "text": [
      "KNN Confusion Matrix:\n",
      " [[ 0 42  0]\n",
      " [ 0 92  1]\n",
      " [ 1 25  1]]\n"
     ]
    }
   ],
   "source": [
    "# confusion matrix\n",
    "knn_pred = knn.predict(X_test)\n",
    "\n",
    "print(\"KNN Confusion Matrix:\\n\",\n",
    "      confusion_matrix(y_test, knn_pred))"
   ]
  },
  {
   "cell_type": "markdown",
   "metadata": {},
   "source": [
    "## Decision Tree"
   ]
  },
  {
   "cell_type": "markdown",
   "metadata": {},
   "source": [
    "We used 5-fold cross validation to find the optimal depth for the decision tree. The optimal depth is 6."
   ]
  },
  {
   "cell_type": "code",
   "execution_count": 18,
   "metadata": {},
   "outputs": [
    {
     "name": "stdout",
     "output_type": "stream",
     "text": [
      "Optimal depth: 6\n"
     ]
    }
   ],
   "source": [
    "depth = []\n",
    "for i in range(3,20):\n",
    "    dt = DecisionTreeClassifier(max_depth=i, random_state=9001)\n",
    "    # Perform 5-fold cross validation \n",
    "    scores = cross_val_score(estimator=dt, X=X_train, y=y_train, cv=cv_fold, n_jobs=-1)\n",
    "    depth.append((i, scores.mean(), scores.std())) \n",
    "depthvals = [t[0] for t in depth]\n",
    "cvmeans = np.array([t[1] for t in depth])\n",
    "cvstds = np.array([t[2] for t in depth])\n",
    "max_indx = np.argmax(cvmeans)\n",
    "md_best = depthvals[max_indx]\n",
    "print('Optimal depth:',md_best)\n",
    "dt_best = DecisionTreeClassifier(max_depth=md_best, random_state=9001)\n",
    "dt_best.fit(X_train, y_train).score(X_test, y_test)\n",
    "dt_score = score(dt_best, X_train, y_train, X_test, y_test)"
   ]
  },
  {
   "cell_type": "code",
   "execution_count": 19,
   "metadata": {},
   "outputs": [
    {
     "name": "stdout",
     "output_type": "stream",
     "text": [
      "Decision Tree Training Accuracy:  0.90499194847\n",
      "Decision Tree Test Accuracy:  0.746913580247\n"
     ]
    }
   ],
   "source": [
    "print('Decision Tree Training Accuracy: ', dt_best.score(X_train,y_train))\n",
    "print('Decision Tree Test Accuracy: ', dt_best.score(X_test,y_test))"
   ]
  },
  {
   "cell_type": "code",
   "execution_count": 20,
   "metadata": {},
   "outputs": [
    {
     "name": "stdout",
     "output_type": "stream",
     "text": [
      "Decision Tree Confusion Matrix:\n",
      " [[24 18  0]\n",
      " [19 73  1]\n",
      " [ 0  3 24]]\n"
     ]
    }
   ],
   "source": [
    "# confusion matrix\n",
    "dt_pred = dt_best.predict(X_test)\n",
    "\n",
    "print(\"Decision Tree Confusion Matrix:\\n\",\n",
    "      confusion_matrix(y_test, dt_pred))"
   ]
  },
  {
   "cell_type": "markdown",
   "metadata": {},
   "source": [
    "## Random Forest"
   ]
  },
  {
   "cell_type": "markdown",
   "metadata": {},
   "source": [
    "We used `GridSearchCV` to find the optimal number of trees and tree depth. We then used the optimal value to perform random forest classification."
   ]
  },
  {
   "cell_type": "code",
   "execution_count": 29,
   "metadata": {},
   "outputs": [
    {
     "name": "stdout",
     "output_type": "stream",
     "text": [
      "Optimal number of trees 32, tree depth: 12\n",
      "\n",
      "\n",
      "Random Forest Training Accuracy:  0.998389694042\n",
      "Random Forest Test Accuracy:  0.802469135802\n"
     ]
    }
   ],
   "source": [
    "trees = [2**x for x in range(8)]  # 1, 2, 4, 8, 16, 32, ...\n",
    "depth = [2, 4, 6, 8, 10, 12, 14, 16]\n",
    "parameters = {'n_estimators': trees,\n",
    "              'max_depth': depth}\n",
    "rf = RandomForestClassifier(random_state=9001)\n",
    "rf_cv = GridSearchCV(rf, parameters, cv=cv_fold)\n",
    "rf_cv.fit(X_train, y_train)\n",
    "best_score = np.argmax(rf_cv.cv_results_['mean_test_score'])\n",
    "result = rf_cv.cv_results_['params'][best_score]\n",
    "opt_depth = result['max_depth']\n",
    "opt_tree = result['n_estimators']\n",
    "print(\"Optimal number of trees {}, tree depth: {}\".format(opt_tree, opt_depth))\n",
    "rf = RandomForestClassifier(n_estimators=opt_tree, max_depth=opt_depth, random_state=9001)\n",
    "rf.fit(X_train, y_train)\n",
    "print('\\n')\n",
    "print('Random Forest Training Accuracy: ', rf.score(X_train,y_train))\n",
    "print('Random Forest Test Accuracy: ', rf.score(X_test,y_test))\n",
    "rf_score = score(rf, X_train, y_train, X_test, y_test)"
   ]
  },
  {
   "cell_type": "code",
   "execution_count": 30,
   "metadata": {},
   "outputs": [
    {
     "name": "stdout",
     "output_type": "stream",
     "text": [
      "Random Forest Confusion Matrix:\n",
      " [[20 22  0]\n",
      " [ 5 85  3]\n",
      " [ 0  2 25]]\n"
     ]
    }
   ],
   "source": [
    "# confusion matrix\n",
    "rf_pred = rf.predict(X_test)\n",
    "\n",
    "print(\"Random Forest Confusion Matrix:\\n\",\n",
    "      confusion_matrix(y_test, rf_pred))"
   ]
  },
  {
   "cell_type": "markdown",
   "metadata": {},
   "source": [
    "## AdaBoost"
   ]
  },
  {
   "cell_type": "markdown",
   "metadata": {},
   "source": [
    "We used the optimal tree depth found by cross validation in the decision tree classifier, and performed `GridSearchCV` to find the optimal number of trees and learning rate."
   ]
  },
  {
   "cell_type": "code",
   "execution_count": 23,
   "metadata": {},
   "outputs": [
    {
     "name": "stdout",
     "output_type": "stream",
     "text": [
      "Optimal number of trees 16, learning rate: 1\n",
      "\n",
      "\n",
      "AdaBoost Training Accuracy:  1.0\n",
      "AdaBoost Test Accuracy:  0.740740740741\n"
     ]
    }
   ],
   "source": [
    "trees = [2**x for x in range(6)]  # 1, 2, 4, 8, 16, 32, ...\n",
    "learning_rate = [0.1, 0.5, 1, 5]\n",
    "parameters = {'n_estimators': trees,\n",
    "              'learning_rate': learning_rate}\n",
    "ab = AdaBoostClassifier(DecisionTreeClassifier(max_depth=md_best),\n",
    "                        random_state=9001)\n",
    "ab_cv = GridSearchCV(ab, parameters, cv=cv_fold)\n",
    "ab_cv.fit(X_train, y_train)\n",
    "best_score = np.argmax(ab_cv.cv_results_['mean_test_score'])\n",
    "result = ab_cv.cv_results_['params'][best_score]\n",
    "opt_learning_rate = result['learning_rate']\n",
    "opt_tree = result['n_estimators']\n",
    "print(\"Optimal number of trees {}, learning rate: {}\".format(opt_tree, opt_learning_rate))\n",
    "ab = AdaBoostClassifier(DecisionTreeClassifier(max_depth=md_best), n_estimators=opt_tree,\n",
    "                       learning_rate=opt_learning_rate, random_state=9001)\n",
    "ab.fit(X_train, y_train)\n",
    "print('\\n')\n",
    "print('AdaBoost Training Accuracy: ', ab.score(X_train,y_train))\n",
    "print('AdaBoost Test Accuracy: ', ab.score(X_test,y_test))\n",
    "ab_score = score(ab, X_train, y_train, X_test, y_test)"
   ]
  },
  {
   "cell_type": "code",
   "execution_count": 24,
   "metadata": {},
   "outputs": [
    {
     "name": "stdout",
     "output_type": "stream",
     "text": [
      "AdaBoost Confusion Matrix:\n",
      " [[20 22  0]\n",
      " [13 76  4]\n",
      " [ 0  3 24]]\n"
     ]
    }
   ],
   "source": [
    "# confusion matrix\n",
    "ab_pred = ab.predict(X_test)\n",
    "\n",
    "print(\"AdaBoost Confusion Matrix:\\n\",\n",
    "      confusion_matrix(y_test, ab_pred))"
   ]
  },
  {
   "cell_type": "markdown",
   "metadata": {},
   "source": [
    "\n",
    "## Performance Summary"
   ]
  },
  {
   "cell_type": "code",
   "execution_count": 31,
   "metadata": {},
   "outputs": [
    {
     "data": {
      "text/html": [
       "<div>\n",
       "<style>\n",
       "    .dataframe thead tr:only-child th {\n",
       "        text-align: right;\n",
       "    }\n",
       "\n",
       "    .dataframe thead th {\n",
       "        text-align: left;\n",
       "    }\n",
       "\n",
       "    .dataframe tbody tr th {\n",
       "        vertical-align: top;\n",
       "    }\n",
       "</style>\n",
       "<table border=\"1\" class=\"dataframe\">\n",
       "  <thead>\n",
       "    <tr style=\"text-align: right;\">\n",
       "      <th></th>\n",
       "      <th>AdaBoost</th>\n",
       "      <th>Decision Tree</th>\n",
       "      <th>Dummy Classifier</th>\n",
       "      <th>KNN</th>\n",
       "      <th>LDA</th>\n",
       "      <th>Logistic Regression with l1</th>\n",
       "      <th>Logistic Regression with l2</th>\n",
       "      <th>Multinomial</th>\n",
       "      <th>OVR</th>\n",
       "      <th>QDA</th>\n",
       "      <th>Random Forest</th>\n",
       "      <th>Unweighted logistic</th>\n",
       "      <th>Weighted logistic</th>\n",
       "    </tr>\n",
       "  </thead>\n",
       "  <tbody>\n",
       "    <tr>\n",
       "      <th>Train accuracy</th>\n",
       "      <td>1.000000</td>\n",
       "      <td>0.904992</td>\n",
       "      <td>0.423510</td>\n",
       "      <td>0.566828</td>\n",
       "      <td>0.848631</td>\n",
       "      <td>0.830918</td>\n",
       "      <td>0.621578</td>\n",
       "      <td>0.845411</td>\n",
       "      <td>0.621578</td>\n",
       "      <td>0.819646</td>\n",
       "      <td>0.998390</td>\n",
       "      <td>0.621578</td>\n",
       "      <td>0.495974</td>\n",
       "    </tr>\n",
       "    <tr>\n",
       "      <th>Test accuracy</th>\n",
       "      <td>0.740741</td>\n",
       "      <td>0.746914</td>\n",
       "      <td>0.444444</td>\n",
       "      <td>0.574074</td>\n",
       "      <td>0.814815</td>\n",
       "      <td>0.827160</td>\n",
       "      <td>0.592593</td>\n",
       "      <td>0.796296</td>\n",
       "      <td>0.592593</td>\n",
       "      <td>0.697531</td>\n",
       "      <td>0.802469</td>\n",
       "      <td>0.592593</td>\n",
       "      <td>0.395062</td>\n",
       "    </tr>\n",
       "    <tr>\n",
       "      <th>Test accuracy CN</th>\n",
       "      <td>0.476190</td>\n",
       "      <td>0.571429</td>\n",
       "      <td>0.333333</td>\n",
       "      <td>0.000000</td>\n",
       "      <td>0.714286</td>\n",
       "      <td>0.642857</td>\n",
       "      <td>0.000000</td>\n",
       "      <td>0.666667</td>\n",
       "      <td>0.000000</td>\n",
       "      <td>0.547619</td>\n",
       "      <td>0.476190</td>\n",
       "      <td>0.000000</td>\n",
       "      <td>0.833333</td>\n",
       "    </tr>\n",
       "    <tr>\n",
       "      <th>Test accuracy CI</th>\n",
       "      <td>0.817204</td>\n",
       "      <td>0.784946</td>\n",
       "      <td>0.516129</td>\n",
       "      <td>0.989247</td>\n",
       "      <td>0.838710</td>\n",
       "      <td>0.903226</td>\n",
       "      <td>0.913978</td>\n",
       "      <td>0.827957</td>\n",
       "      <td>0.913978</td>\n",
       "      <td>0.752688</td>\n",
       "      <td>0.913978</td>\n",
       "      <td>0.913978</td>\n",
       "      <td>0.129032</td>\n",
       "    </tr>\n",
       "    <tr>\n",
       "      <th>Test accuracy AD</th>\n",
       "      <td>0.888889</td>\n",
       "      <td>0.888889</td>\n",
       "      <td>0.222222</td>\n",
       "      <td>0.037037</td>\n",
       "      <td>0.888889</td>\n",
       "      <td>0.851852</td>\n",
       "      <td>0.407407</td>\n",
       "      <td>0.888889</td>\n",
       "      <td>0.407407</td>\n",
       "      <td>0.740741</td>\n",
       "      <td>0.925926</td>\n",
       "      <td>0.407407</td>\n",
       "      <td>0.629630</td>\n",
       "    </tr>\n",
       "  </tbody>\n",
       "</table>\n",
       "</div>"
      ],
      "text/plain": [
       "                  AdaBoost  Decision Tree  Dummy Classifier       KNN       LDA  Logistic Regression with l1  Logistic Regression with l2  Multinomial       OVR       QDA  Random Forest  Unweighted logistic  Weighted logistic\n",
       "Train accuracy    1.000000       0.904992          0.423510  0.566828  0.848631                     0.830918                     0.621578     0.845411  0.621578  0.819646       0.998390             0.621578           0.495974\n",
       "Test accuracy     0.740741       0.746914          0.444444  0.574074  0.814815                     0.827160                     0.592593     0.796296  0.592593  0.697531       0.802469             0.592593           0.395062\n",
       "Test accuracy CN  0.476190       0.571429          0.333333  0.000000  0.714286                     0.642857                     0.000000     0.666667  0.000000  0.547619       0.476190             0.000000           0.833333\n",
       "Test accuracy CI  0.817204       0.784946          0.516129  0.989247  0.838710                     0.903226                     0.913978     0.827957  0.913978  0.752688       0.913978             0.913978           0.129032\n",
       "Test accuracy AD  0.888889       0.888889          0.222222  0.037037  0.888889                     0.851852                     0.407407     0.888889  0.407407  0.740741       0.925926             0.407407           0.629630"
      ]
     },
     "execution_count": 31,
     "metadata": {},
     "output_type": "execute_result"
    }
   ],
   "source": [
    "score_df = pd.DataFrame({'Dummy Classifier': dc_score,\n",
    "                         'Logistic Regression with l1': l1_score, \n",
    "                         'Logistic Regression with l2': l2_score,\n",
    "                         'Weighted logistic': weighted_score,\n",
    "                         'Unweighted logistic': unweighted_score,\n",
    "                         'OVR': ovr_score,\n",
    "                         'Multinomial': multi_score,\n",
    "                         'KNN': knn_score,\n",
    "                         'LDA': lda_score,\n",
    "                         'QDA': qda_score,\n",
    "                         'Decision Tree': dt_score,\n",
    "                         'Random Forest': rf_score,\n",
    "                         'AdaBoost': ab_score})\n",
    "score_df"
   ]
  },
  {
   "cell_type": "code",
   "execution_count": 32,
   "metadata": {
    "collapsed": true
   },
   "outputs": [],
   "source": [
    "names_sorted = [\n",
    "    pair[0] for pair in sorted(\n",
    "        zip(score_df.columns, score_df.loc['Test accuracy']), \n",
    "        key=lambda x:x[1], reverse=False) ]\n",
    "names_ticks = [\n",
    "    n.replace(' ','\\n') for n in names_sorted ]"
   ]
  },
  {
   "cell_type": "code",
   "execution_count": 33,
   "metadata": {},
   "outputs": [
    {
     "data": {
      "image/png": "[encoded data removed]",
      "text/plain": [
       "<matplotlib.figure.Figure at 0x119aad518>"
      ]
     },
     "metadata": {},
     "output_type": "display_data"
    }
   ],
   "source": [
    "bar_width = 0.3\n",
    "plt.figure(figsize = (16,10))\n",
    "for i,idx in enumerate(score_df.index[:2]):\n",
    "    plt.bar(np.arange(len(names_sorted))+i*bar_width, score_df[names_sorted].loc[idx], \n",
    "            bar_width, color=sns.color_palette()[i], label=idx)\n",
    "plt.xticks(np.arange(len(names_sorted))+0.15, names_ticks)\n",
    "plt.ylabel('Overall Classification Accuracy')\n",
    "plt.xlabel('Classifiers')\n",
    "plt.legend(loc='best')\n",
    "plt.ylim(0,1)\n",
    "plt.show()"
   ]
  },
  {
   "cell_type": "code",
   "execution_count": 34,
   "metadata": {},
   "outputs": [
    {
     "data": {
      "image/png": "[encoded data removed]",
      "text/plain": [
       "<matplotlib.figure.Figure at 0x119e7c710>"
      ]
     },
     "metadata": {},
     "output_type": "display_data"
    }
   ],
   "source": [
    "bar_width = 0.3\n",
    "plt.figure(figsize = (16,10))\n",
    "for i,idx in enumerate(score_df.index[2:]):\n",
    "    plt.bar(1.2*np.arange(len(names_sorted))+i*bar_width, score_df[names_sorted].loc[idx], \n",
    "            bar_width, color=sns.color_palette()[i+2], label=idx)\n",
    "plt.xticks(1.2*np.arange(len(names_sorted))+0.3, names_ticks)\n",
    "plt.ylabel('Classification Accuracy on Each Class')\n",
    "plt.xlabel('Classifiers')\n",
    "plt.legend(loc='best')\n",
    "plt.ylim(0,1)\n",
    "plt.show()"
   ]
  },
  {
   "cell_type": "markdown",
   "metadata": {},
   "source": [
    "For baseline models, people usually use the dummy classifier with \"stratified\" strategy or the \"most frequent\" strategy. The \"stratified\" method generates prediction according to the class distribution of the training set. The \"most frequent\" strategy always predicts the most frequent class. We adopted the `stratified` strategy implemented by `sklearn`'s `DummyClassifer` as the baseline model. As can be seen above, all other classification models we used outperformed the dummy classifier as expected.\n",
    "\n",
    "Based on the above summary, `AdaBoost` and `Random Forest` has very high training accuracy reaching 100%. The classifiers with the highest three test accuracies are `Random Forest` (0.802469), `LDA` (0.814815) and `Logistic Regression with l1` (0.827160), among which `Logistic Regression with l1` has the best performance.\n",
    "\n",
    "For classifying `CN` patients, weighted logistic regression has the highest test accuracy (0.833333), so it performs the best for determining Cognitively Normal patients. However, KNN, logistic regression with l2 regularization, OvR logistic regression and unweighted logistic regression have zero accuracy on classifying `CN` patients. Since all of them have very high accuracy on `CI` but low accuracy on `AD`, we think these four models probably classify almost all the `CN` patients into `CI` (as can been seen in the confusion matrix), leading to zero accuracy on `CN` and high accuracy on `CI`.\n",
    "\n",
    "KNN has the highest test accuracy (0.989247) on diagnosing `CI` cognitive impairment patients. Logistic regression with l2 regularization, random forest classifier, OvR logistic regression and unweighted logistic regression all reach 0.9 accuracy on diagnosing `CI` patients.\n",
    "\n",
    "Since we focus on the diagnosis of Alzheimer's disease, we are more concerned about the test accuracy on `AD` patients. Random forest classifier has the highest test accuracy (0.925926) on `AD` patients. Adaboost, LDA, decision tree, and multinomial logistic regression all achieve test accuracy reaching 0.90 on the classification of `AD`.\n",
    "\n",
    "In addition, we find an interesting pattern in the above barplots of accuracy. There seems to be three types of classifiers. Type I includes `Weighted Logistic` and `Dummy Classifier`. Their overall accuracies are at a relatively low level around 0.40. Type II includes `KNN`, `Logistic Regression with l2`, `OvR` and `Unweighted Logistic`. Their overall accuracies are at a midium level around 0.60, and their partial accuracies on the three classes are very unbalanced. None of them can predict correctly on `CN`. Type III includes `QDA`, `AdaBoost`, `Decision Tree`, `Multinomial`, `Random Forest`, `LDA` and `Logistic Regression with l1`. Their overall accuracies are at a relatively high level over 0.70, and their partial accuracies on the three classes are basically balanced. Every Type III classifier has its own advantage and can be competitive substitution to each other.\n",
    "\n",
    "To conclude, `Logistic Regression with l1`, `LDA` and `Random Forest` performed the best if we are concerned about both overall test accuracy and correctly diagnosing `AD` patients. Other models such as `QDA`, `AdaBoost`, `Decision Tree` and `Multinomial` are also promising."
   ]
  },
  {
   "cell_type": "code",
   "execution_count": null,
   "metadata": {
    "collapsed": true
   },
   "outputs": [],
   "source": []
  }
 ],
 "metadata": {
  "kernelspec": {
   "display_name": "Python 3",
   "language": "python",
   "name": "python3"
  },
  "language_info": {
   "codemirror_mode": {
    "name": "ipython",
    "version": 3
   },
   "file_extension": ".py",
   "mimetype": "text/x-python",
   "name": "python",
   "nbconvert_exporter": "python",
   "pygments_lexer": "ipython3",
   "version": "3.6.1"
  }
 },
 "nbformat": 4,
 "nbformat_minor": 2
}
