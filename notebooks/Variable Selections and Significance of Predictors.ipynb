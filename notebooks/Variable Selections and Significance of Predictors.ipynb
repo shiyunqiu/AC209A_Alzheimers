{
 "cells": [
  {
   "cell_type": "code",
   "execution_count": 1,
   "metadata": {
    "collapsed": true
   },
   "outputs": [],
   "source": [
    "import numpy as np\n",
    "import pandas as pd\n",
    "from sklearn.ensemble import RandomForestClassifier\n",
    "from sklearn.linear_model import LogisticRegressionCV\n",
    "from sklearn.linear_model import LogisticRegression\n",
    "from sklearn.model_selection import cross_val_score\n",
    "from sklearn.model_selection import KFold"
   ]
  },
  {
   "cell_type": "markdown",
   "metadata": {},
   "source": [
    "# Load data"
   ]
  },
  {
   "cell_type": "code",
   "execution_count": 2,
   "metadata": {
    "collapsed": true
   },
   "outputs": [],
   "source": [
    "df_train = pd.read_csv(\"data/ADNIMERGE_train.csv\")\n",
    "df_test = pd.read_csv(\"data/ADNIMERGE_test.csv\")"
   ]
  },
  {
   "cell_type": "code",
   "execution_count": 3,
   "metadata": {
    "collapsed": true
   },
   "outputs": [],
   "source": [
    "X_train = df_train.drop(['RID', 'DX_bl'], axis=1).copy()\n",
    "y_train = df_train['DX_bl'].copy()\n",
    "X_test = df_test.drop(['RID', 'DX_bl'], axis=1).copy()\n",
    "y_test = df_test['DX_bl'].copy()"
   ]
  },
  {
   "cell_type": "markdown",
   "metadata": {},
   "source": [
    "# Significance of Predictors"
   ]
  },
  {
   "cell_type": "markdown",
   "metadata": {},
   "source": [
    "We would like to find out the most significant variables in the model. These variables have the strongest predicting power, and are thus the most useful in the diagnosis of Alzheimer's disease. Identifying these variables can eliminate the number of tests a patient has to go through to get an accurate diagnosis. \n",
    "\n",
    "For logistic regression with l1 regularization, we used bootstraping (200 iterations) to find the most significant predictors. For random forest, we chcked the returned attribute `feature_importances_`."
   ]
  },
  {
   "cell_type": "markdown",
   "metadata": {},
   "source": [
    "## Bootstrap"
   ]
  },
  {
   "cell_type": "code",
   "execution_count": 4,
   "metadata": {
    "collapsed": false
   },
   "outputs": [
    {
     "name": "stdout",
     "output_type": "stream",
     "text": [
      "Most significant coefficients:  5\n",
      "Index(['ADAS13', 'MMSE', 'RAVLT_immediate', 'FAQ', 'ICV_slope'], dtype='object')\n"
     ]
    }
   ],
   "source": [
    "log_l1 = LogisticRegressionCV(penalty = 'l1', solver = 'liblinear',random_state=9001)\n",
    "log_l1.fit(X_train,y_train)\n",
    "c = log_l1.C_[0]\n",
    "\n",
    "iterations = 200\n",
    "boot = np.zeros((X_train.shape[1], iterations))\n",
    "for i in range(iterations):\n",
    "    np.random.seed(2*i)\n",
    "    boot_rows = np.random.choice(range(X_train.shape[0]),\n",
    "                                 size=X_train.shape[0], replace=True)\n",
    "    X_train_boot = X_train.values[boot_rows]\n",
    "    y_train_boot = y_train.values[boot_rows]\n",
    "    model_boot = LogisticRegression(penalty = 'l1', C=c)\n",
    "    model_boot.fit(X_train_boot, y_train_boot)\n",
    "    boot[:,i] = model_boot.coef_[2,:]\n",
    "    \n",
    "boot_ci_upper = np.percentile(boot, 95, axis=1)\n",
    "boot_ci_lower = np.percentile(boot, 5, axis=1)\n",
    "sig_b_ct = []\n",
    "for i in range(X_train.shape[1]):\n",
    "    if boot_ci_upper[i]<0 or boot_ci_lower[i]>0:\n",
    "        sig_b_ct.append(i)\n",
    "        \n",
    "print(\"Most significant coefficients: \",len(sig_b_ct))\n",
    "print(X_train.columns[sig_b_ct])"
   ]
  },
  {
   "cell_type": "markdown",
   "metadata": {},
   "source": [
    "Surprisingly, we only have 5 significant predictors using bootstrap method and four of them are cognitive assessments which don't cost as much as brain imaing tests. Specifically, the significant assessments are: \n",
    "- **`ADAS13`**: Alzheimer’s Disease Assessment Scale\n",
    "- **`MMSE`**: Mini-Mental State Examination\n",
    "- **`RAVLT_immediate`**: Rey Auditory Verbal Learning Immediate Test\n",
    "- **`FAQ`**: Functional Activities Questionnaire in Older Adults with Dementia. \n",
    "We found this result a bit doubtful because no brain imaging tests are picked as significant predictors while studies have shown the great important role of brain imaging in diagnosing Alzheimer's Disease. However, if other models also give similar result, patients are likely to save a lot of money and time. \n",
    "- **`ICV_slope`**: The change of intracranial vault volume in magnetic resonance imaging(MRI) result"
   ]
  },
  {
   "cell_type": "markdown",
   "metadata": {},
   "source": [
    "## Feature importance by Random Forest"
   ]
  },
  {
   "cell_type": "code",
   "execution_count": 5,
   "metadata": {
    "collapsed": false
   },
   "outputs": [
    {
     "name": "stdout",
     "output_type": "stream",
     "text": [
      "The most important 73 features:\n",
      "['PTAGE' 'PTGENDER' 'PTEDUCAT' 'PTRACCAT_Asian' 'PTRACCAT_Black'\n",
      " 'PTRACCAT_More_than_one' 'PTRACCAT_White' 'PTETHCAT_Not_Hisp/Latino'\n",
      " 'PTMARRY_Married' 'PTMARRY_Never_married' 'PTMARRY_Widowed' 'APOE4'\n",
      " 'CSF_ABETA' 'CSF_TAU' 'CSF_PTAU' 'FDG' 'FDG_slope' 'AV45' 'AV45_slope'\n",
      " 'ADAS13' 'ADAS13_slope' 'MMSE' 'MMSE_slope' 'RAVLT_immediate'\n",
      " 'RAVLT_immediate_slope' 'RAVLT_learning' 'RAVLT_learning_slope'\n",
      " 'RAVLT_forgetting' 'RAVLT_forgetting_slope' 'RAVLT_perc_forgetting'\n",
      " 'RAVLT_perc_forgetting_slope' 'MOCA' 'MOCA_slope' 'EcogPtMem'\n",
      " 'EcogPtMem_slope' 'EcogPtLang' 'EcogPtLang_slope' 'EcogPtVisspat'\n",
      " 'EcogPtVisspat_slope' 'EcogPtPlan' 'EcogPtPlan_slope' 'EcogPtOrgan'\n",
      " 'EcogPtOrgan_slope' 'EcogPtDivatt' 'EcogPtDivatt_slope' 'EcogSPMem'\n",
      " 'EcogSPMem_slope' 'EcogSPLang' 'EcogSPLang_slope' 'EcogSPVisspat'\n",
      " 'EcogSPVisspat_slope' 'EcogSPPlan' 'EcogSPPlan_slope' 'EcogSPOrgan'\n",
      " 'EcogSPOrgan_slope' 'EcogSPDivatt' 'EcogSPDivatt_slope' 'FAQ' 'FAQ_slope'\n",
      " 'Ventricles' 'Ventricles_slope' 'Hippocampus' 'Hippocampus_slope'\n",
      " 'WholeBrain' 'WholeBrain_slope' 'Entorhinal' 'Entorhinal_slope' 'Fusiform'\n",
      " 'Fusiform_slope' 'MidTemp' 'MidTemp_slope' 'ICV' 'ICV_slope']\n"
     ]
    }
   ],
   "source": [
    "rf_best = RandomForestClassifier(n_estimators=32, max_depth=12,random_state=9001)\n",
    "rf_best.fit(X_train, y_train)\n",
    "imp_features = np.array(X_train.columns)[rf_best.feature_importances_!=0]\n",
    "print(\"The most important {} features:\".format(len(imp_features)))\n",
    "print(imp_features)"
   ]
  },
  {
   "cell_type": "code",
   "execution_count": 20,
   "metadata": {
    "collapsed": false
   },
   "outputs": [
    {
     "data": {
      "text/plain": [
       "['PTRACCAT_Unknown', 'PTRACCAT_Hawaiian/Other_PI']"
      ]
     },
     "execution_count": 20,
     "metadata": {},
     "output_type": "execute_result"
    }
   ],
   "source": [
    "list(set(X_train.columns) - set(imp_features))"
   ]
  },
  {
   "cell_type": "markdown",
   "metadata": {},
   "source": [
    "### Significance ranking of predictors"
   ]
  },
  {
   "cell_type": "code",
   "execution_count": 6,
   "metadata": {
    "collapsed": false
   },
   "outputs": [
    {
     "data": {
      "text/plain": [
       "array([14, 65, 61, 67, 71, 75, 69, 75, 68, 73, 64, 72, 70, 66, 28, 11, 58,\n",
       "       16, 23, 15, 52,  3, 30,  1, 10, 12, 41, 56, 38, 62, 47,  8, 48,  7,\n",
       "       22,  4, 46,  6, 45, 59, 44, 63, 57, 60, 54, 43, 37,  2, 27, 19, 18,\n",
       "       51, 25, 26, 32, 20, 49,  9, 39,  5, 13, 31, 21, 24, 42, 29, 36, 17,\n",
       "       50, 34, 35, 55, 40, 33, 53])"
      ]
     },
     "execution_count": 6,
     "metadata": {},
     "output_type": "execute_result"
    }
   ],
   "source": [
    "imp = rf_best.feature_importances_\n",
    "ranks_rf = np.searchsorted(np.sort(imp), imp)\n",
    "ranks_rf=len(ranks_rf)-ranks_rf\n",
    "ranks_rf"
   ]
  },
  {
   "cell_type": "code",
   "execution_count": 7,
   "metadata": {
    "collapsed": false,
    "scrolled": false
   },
   "outputs": [
    {
     "name": "stdout",
     "output_type": "stream",
     "text": [
      "Ranked Predictors by Random Forest Feature Importance:\n",
      "\n",
      "['MMSE', 'EcogSPMem', 'ADAS13', 'EcogPtMem', 'FAQ', 'EcogPtLang', 'MOCA', 'RAVLT_perc_forgetting', 'EcogSPDivatt', 'MMSE_slope', 'CSF_TAU', 'RAVLT_immediate', 'FAQ_slope', 'PTAGE', 'AV45', 'FDG', 'Entorhinal', 'EcogSPLang_slope', 'EcogSPLang', 'EcogSPOrgan', 'Ventricles_slope', 'MOCA_slope', 'FDG_slope', 'Hippocampus', 'EcogSPVisspat_slope', 'EcogSPPlan', 'EcogSPMem_slope', 'CSF_ABETA', 'WholeBrain', 'ADAS13_slope', 'Ventricles', 'EcogSPPlan_slope', 'ICV', 'Fusiform', 'Fusiform_slope', 'WholeBrain_slope', 'EcogPtDivatt_slope', 'RAVLT_learning_slope', 'EcogSPDivatt_slope', 'MidTemp_slope', 'RAVLT_immediate_slope', 'Hippocampus_slope', 'EcogPtDivatt', 'EcogPtVisspat_slope', 'EcogPtLang_slope', 'EcogPtMem_slope', 'RAVLT_forgetting_slope', 'RAVLT_perc_forgetting_slope', 'EcogSPOrgan_slope', 'Entorhinal_slope', 'EcogSPVisspat', 'AV45_slope', 'ICV_slope', 'EcogPtOrgan_slope', 'MidTemp', 'RAVLT_learning', 'EcogPtPlan_slope', 'CSF_PTAU', 'EcogPtVisspat', 'EcogPtOrgan', 'PTEDUCAT', 'RAVLT_forgetting', 'EcogPtPlan', 'PTMARRY_Married', 'PTGENDER', 'APOE4', 'PTRACCAT_Asian', 'PTRACCAT_White', 'PTRACCAT_More_than_one', 'PTMARRY_Widowed', 'PTRACCAT_Black', 'PTMARRY_Never_married', 'PTETHCAT_Not_Hisp/Latino', None, 'PTRACCAT_Unknown']\n"
     ]
    }
   ],
   "source": [
    "ranked_x_rf = [None]*len(X_train.columns)\n",
    "for i, rank in enumerate(ranks_rf):\n",
    "    ranked_x_rf[rank-1] = X_train.columns[i]\n",
    "print('Ranked Predictors by Random Forest Feature Importance:\\n')\n",
    "print(ranked_x_rf)"
   ]
  },
  {
   "cell_type": "markdown",
   "metadata": {},
   "source": [
    "Using random forest classifier, we ended up with 73 important features. \n",
    "Only `PTRACCAT_Hawaiian/Other_PI`, `PTRACCAT_Unknown` are not significant, all of which are indicators of race and marriage. Notably, among the top ranking 15 ranked predictors, `MMSE`, `FAQ`, `ADAS13`, and `RAVLT_immediate` appear again (also appeared in bootstraping result), which adds even more significance to these cognition tests. Additionally, many Every Cognition Test(ECogxxx) results are also shown to be significant here. We will see how they perfrom in the following selections."
   ]
  },
  {
   "cell_type": "markdown",
   "metadata": {},
   "source": [
    "## Forward and Backward Selection"
   ]
  },
  {
   "cell_type": "code",
   "execution_count": 8,
   "metadata": {
    "collapsed": false
   },
   "outputs": [],
   "source": [
    "def step_forwards_backwards(direction='forward'):\n",
    "    \n",
    "\n",
    "    \n",
    "    assert direction in ['forward', 'backward']\n",
    "\n",
    "    predictors = set(X_train.columns)\n",
    "    predictors_ls = list(X_train.columns)\n",
    "    selected_predictors = set() if direction=='forward' else set(predictors)\n",
    "    \n",
    "    n = X_train.shape[0]\n",
    "    best_acc = np.inf\n",
    "    \n",
    "    best_accuracy = []\n",
    "    best_models = []\n",
    "    \n",
    "    rank = 0\n",
    "    \n",
    "    if direction == 'forward':\n",
    "        ranks = [len(predictors_ls)-1]*len(predictors_ls)\n",
    "        X = X_train[list(selected_predictors)].values\n",
    "        while (True):\n",
    "            \n",
    "            possible_scores = []\n",
    "            possible_predictors = list(selected_predictors ^ predictors)\n",
    "            \n",
    "            if len(possible_predictors) == 0:\n",
    "                break\n",
    "                \n",
    "            cv_fold = KFold(n_splits=3, shuffle=True, random_state=9001)\n",
    "            for predictor in possible_predictors:\n",
    "                x_temp = np.concatenate([X, X_train[predictor].values.reshape(-1,1)], axis=1)\n",
    "                rf = RandomForestClassifier(n_estimators=32, max_depth=12,random_state=9001)\n",
    "                scores = np.mean(cross_val_score(rf, x_temp, y_train, cv=cv_fold))\n",
    "                possible_scores.append(scores)\n",
    "                \n",
    "            best_predictor_ix = np.argmax(possible_scores)\n",
    "            best_predictor = possible_predictors[best_predictor_ix]\n",
    "            ranks[predictors_ls.index(best_predictor)]=rank\n",
    "            \n",
    "            best_acc = np.max(possible_scores)\n",
    "            best_accuracy.append(best_acc)\n",
    "            \n",
    "            selected_predictors.add(best_predictor)            \n",
    "            X = np.concatenate([X, X_train[best_predictor].values.reshape(-1,1)], axis=1)\n",
    "            best_models.append(list(selected_predictors))\n",
    "            \n",
    "            rank += 1\n",
    "\n",
    "    else:\n",
    "        ranks = [0]*len(predictors_ls)\n",
    "        while (True):\n",
    "            possible_scores = []\n",
    "            possible_predictors = list(selected_predictors)\n",
    "\n",
    "            if len(possible_predictors) == 0:\n",
    "                break\n",
    "            cv_fold = KFold(n_splits=3, shuffle=True, random_state=9001)              \n",
    "            for predictor in possible_predictors:\n",
    "    \n",
    "                X = np.concatenate([np.ones(n).reshape(-1,1), \n",
    "                                    X_train[list(selected_predictors - set([predictor]))].values], \n",
    "                                   axis=1)\n",
    "                if(X.shape[1] != 0):\n",
    "                    rf = RandomForestClassifier(n_estimators=32, max_depth=12,random_state=9001)\n",
    "                    scores = np.mean(cross_val_score(rf, X, y_train, cv=cv_fold))\n",
    "                    possible_scores.append(scores)\n",
    "\n",
    "            best_predictor_ix = np.argmax(possible_scores)\n",
    "            best_predictor = possible_predictors[best_predictor_ix] \n",
    "            ranks[predictors_ls.index(best_predictor)]=len(predictors_ls)-rank-1\n",
    "\n",
    "            best_acc = possible_scores[best_predictor_ix]\n",
    "            selected_predictors.discard(best_predictor)\n",
    "            \n",
    "            best_accuracy.append(best_acc)\n",
    "            best_models.append(list(selected_predictors))\n",
    "            \n",
    "            rank += 1\n",
    "            \n",
    "    index_of_best_accuracy = np.argmax(best_accuracy)\n",
    "\n",
    "    return (best_models[index_of_best_accuracy],ranks)"
   ]
  },
  {
   "cell_type": "code",
   "execution_count": 9,
   "metadata": {
    "collapsed": false
   },
   "outputs": [],
   "source": [
    "predictors_forward,ranks_f = step_forwards_backwards(direction='forward')\n",
    "predictors_backward,ranks_b = step_forwards_backwards(direction='backward')"
   ]
  },
  {
   "cell_type": "markdown",
   "metadata": {},
   "source": [
    "### Significance ranking of predictors by stepwise selections"
   ]
  },
  {
   "cell_type": "code",
   "execution_count": 10,
   "metadata": {
    "collapsed": false
   },
   "outputs": [
    {
     "name": "stdout",
     "output_type": "stream",
     "text": [
      "Predictors selected by forward selection ( 15  predictors): \n",
      " ['PTAGE', 'AV45_slope', 'PTMARRY_Never_married', 'WholeBrain_slope', 'ADAS13', 'Fusiform_slope', 'PTETHCAT_Not_Hisp/Latino', 'PTRACCAT_Unknown', 'FAQ', 'EcogPtMem', 'FDG_slope', 'MMSE', 'CSF_TAU', 'PTRACCAT_Hawaiian/Other_PI', 'EcogSPMem'] \n",
      " [6, 67, 71, 34, 56, 7, 24, 8, 19, 10, 25, 14, 63, 61, 69, 3, 49, 29, 13, 72, 11, 0, 53, 5, 58, 48, 21, 46, 44, 16, 66, 54, 64, 40, 41, 4, 35, 45, 27, 62, 31, 60, 17, 32, 52, 59, 38, 2, 20, 36, 43, 55, 22, 23, 47, 42, 33, 74, 39, 12, 26, 51, 28, 70, 65, 50, 1, 73, 15, 57, 9, 37, 68, 30, 18]\n",
      "\n",
      "-----------------------------------------\n",
      "\n",
      "Predictors selected by backward selection: ( 13  predictors): \n",
      " ['PTAGE', 'MMSE', 'PTMARRY_Married', 'ICV_slope', 'EcogPtLang', 'PTGENDER', 'EcogSPLang_slope', 'MidTemp_slope', 'FDG_slope', 'ICV', 'EcogSPPlan', 'PTRACCAT_Hawaiian/Other_PI', 'RAVLT_perc_forgetting_slope'] \n",
      " [9, 7, 43, 39, 63, 11, 68, 70, 22, 65, 6, 71, 64, 19, 30, 13, 53, 32, 3, 36, 47, 72, 62, 0, 24, 54, 37, 29, 34, 50, 52, 25, 5, 27, 46, 57, 28, 2, 41, 31, 14, 59, 49, 35, 26, 21, 55, 66, 20, 44, 8, 61, 73, 1, 51, 74, 48, 17, 15, 60, 45, 42, 69, 33, 67, 40, 38, 58, 16, 18, 23, 56, 4, 12, 10]\n"
     ]
    }
   ],
   "source": [
    "print(\"Predictors selected by forward selection (\", \n",
    "      len(predictors_forward), \" predictors): \\n\", predictors_forward,'\\n',ranks_f)\n",
    "print(\"\\n-----------------------------------------\\n\")\n",
    "print(\"Predictors selected by backward selection: (\", \n",
    "      len(predictors_backward), \" predictors): \\n\", predictors_backward,'\\n',ranks_b)"
   ]
  },
  {
   "cell_type": "code",
   "execution_count": 11,
   "metadata": {
    "collapsed": false
   },
   "outputs": [
    {
     "name": "stdout",
     "output_type": "stream",
     "text": [
      "Ranked Predictors by Forward Selection:\n",
      "\n",
      "['ADAS13', 'WholeBrain_slope', 'EcogSPMem', 'CSF_TAU', 'EcogPtMem', 'MMSE', 'PTAGE', 'PTRACCAT_Hawaiian/Other_PI', 'PTRACCAT_Unknown', 'Fusiform_slope', 'PTETHCAT_Not_Hisp/Latino', 'AV45_slope', 'FAQ', 'FDG_slope', 'PTMARRY_Never_married', 'Entorhinal_slope', 'RAVLT_forgetting', 'EcogPtPlan_slope', 'ICV_slope', 'PTRACCAT_White', 'EcogSPMem_slope', 'RAVLT_immediate_slope', 'EcogSPVisspat_slope', 'EcogSPPlan', 'PTRACCAT_More_than_one', 'PTMARRY_Married', 'FAQ_slope', 'EcogPtLang_slope', 'Ventricles_slope', 'FDG', 'ICV', 'EcogPtVisspat_slope', 'EcogPtOrgan', 'EcogSPOrgan_slope', 'PTRACCAT_Asian', 'EcogPtMem_slope', 'EcogSPLang', 'MidTemp', 'EcogPtDivatt_slope', 'EcogSPDivatt_slope', 'MOCA', 'MOCA_slope', 'EcogSPOrgan', 'EcogSPLang_slope', 'RAVLT_learning_slope', 'EcogPtLang', 'RAVLT_learning', 'EcogSPPlan_slope', 'RAVLT_immediate', 'CSF_PTAU', 'WholeBrain', 'Ventricles', 'EcogPtOrgan_slope', 'ADAS13_slope', 'RAVLT_perc_forgetting', 'EcogSPVisspat', 'PTRACCAT_Black', 'Fusiform', 'MMSE_slope', 'EcogPtDivatt', 'EcogPtPlan', 'APOE4', 'EcogPtVisspat', 'PTMARRY_Widowed', 'RAVLT_perc_forgetting_slope', 'Hippocampus_slope', 'RAVLT_forgetting_slope', 'PTGENDER', 'MidTemp_slope', 'CSF_ABETA', 'Hippocampus', 'PTEDUCAT', 'AV45', 'Entorhinal', 'EcogSPDivatt']\n"
     ]
    }
   ],
   "source": [
    "ranked_x_forward = [None]*len(X_train.columns)\n",
    "for i, rank in enumerate(ranks_f):\n",
    "    ranked_x_forward[rank] = X_train.columns[i]\n",
    "print('Ranked Predictors by Forward Selection:\\n')\n",
    "print(ranked_x_forward)"
   ]
  },
  {
   "cell_type": "code",
   "execution_count": 12,
   "metadata": {
    "collapsed": false
   },
   "outputs": [
    {
     "name": "stdout",
     "output_type": "stream",
     "text": [
      "Ranked Predictors by Backward Selection:\n",
      "\n",
      "['MMSE', 'EcogSPPlan', 'EcogPtLang', 'FDG_slope', 'MidTemp_slope', 'RAVLT_perc_forgetting_slope', 'PTMARRY_Married', 'PTGENDER', 'EcogSPLang_slope', 'PTAGE', 'ICV_slope', 'PTRACCAT_Hawaiian/Other_PI', 'ICV', 'CSF_TAU', 'EcogPtVisspat_slope', 'EcogSPDivatt_slope', 'Entorhinal_slope', 'EcogSPDivatt', 'Fusiform', 'APOE4', 'EcogSPMem_slope', 'EcogPtDivatt', 'PTRACCAT_White', 'Fusiform_slope', 'MMSE_slope', 'RAVLT_perc_forgetting', 'EcogPtOrgan_slope', 'MOCA', 'EcogPtMem_slope', 'RAVLT_learning', 'CSF_ABETA', 'EcogPtVisspat', 'FDG', 'Hippocampus', 'RAVLT_learning_slope', 'EcogPtOrgan', 'AV45', 'RAVLT_immediate_slope', 'WholeBrain_slope', 'PTRACCAT_Asian', 'WholeBrain', 'EcogPtLang_slope', 'Ventricles', 'PTEDUCAT', 'EcogSPLang', 'FAQ_slope', 'MOCA_slope', 'AV45_slope', 'EcogSPOrgan_slope', 'EcogPtPlan_slope', 'RAVLT_forgetting', 'EcogSPPlan_slope', 'RAVLT_forgetting_slope', 'CSF_PTAU', 'RAVLT_immediate', 'EcogPtDivatt_slope', 'MidTemp', 'EcogPtMem', 'Entorhinal', 'EcogPtPlan', 'FAQ', 'EcogSPVisspat', 'ADAS13_slope', 'PTRACCAT_Black', 'PTMARRY_Widowed', 'PTETHCAT_Not_Hisp/Latino', 'EcogSPMem', 'Hippocampus_slope', 'PTRACCAT_More_than_one', 'Ventricles_slope', 'PTRACCAT_Unknown', 'PTMARRY_Never_married', 'ADAS13', 'EcogSPVisspat_slope', 'EcogSPOrgan']\n"
     ]
    }
   ],
   "source": [
    "ranked_x_backward = [None]*len(X_train.columns)\n",
    "for i, rank in enumerate(ranks_b):\n",
    "    ranked_x_backward[rank] = X_train.columns[i]\n",
    "print('Ranked Predictors by Backward Selection:\\n')\n",
    "print(ranked_x_backward)"
   ]
  },
  {
   "cell_type": "markdown",
   "metadata": {},
   "source": [
    "Backward selection chose much more predictors than forward selection.\n",
    "\n",
    "\n",
    "\n",
    "### Combined significant predictors selected by RF, Forward and Backward selection"
   ]
  },
  {
   "cell_type": "code",
   "execution_count": 22,
   "metadata": {
    "collapsed": false
   },
   "outputs": [
    {
     "name": "stdout",
     "output_type": "stream",
     "text": [
      "Combined significant predictors by forward and backward selection:\n",
      "\n",
      "{'PTAGE', 'PTMARRY_Married', 'EcogPtLang', 'PTMARRY_Never_married', 'MidTemp_slope', 'EcogSPPlan', 'WholeBrain_slope', 'ADAS13', 'Fusiform_slope', 'PTETHCAT_Not_Hisp/Latino', 'ICV_slope', 'FAQ', 'EcogPtMem', 'FDG_slope', 'MMSE', 'PTRACCAT_Unknown', 'PTRACCAT_Hawaiian/Other_PI', 'AV45_slope', 'PTGENDER', 'EcogSPLang_slope', 'ICV', 'CSF_TAU', 'RAVLT_perc_forgetting_slope', 'EcogSPMem'}\n"
     ]
    }
   ],
   "source": [
    "forward = set(predictors_forward)\n",
    "backward = set(predictors_backward)\n",
    "inter_f_b = forward.union(backward)\n",
    "print('Combined significant predictors by forward and backward selection:\\n')\n",
    "print(inter_f_b)"
   ]
  },
  {
   "cell_type": "markdown",
   "metadata": {},
   "source": [
    "## Rank-Rank plot "
   ]
  },
  {
   "cell_type": "code",
   "execution_count": 14,
   "metadata": {
    "collapsed": false,
    "scrolled": false
   },
   "outputs": [
    {
     "data": {
      "image/png": "[encoded data removed]",
      "text/plain": [
       "<matplotlib.figure.Figure at 0x10a937a20>"
      ]
     },
     "metadata": {},
     "output_type": "display_data"
    }
   ],
   "source": [
    "import matplotlib.pyplot as plt\n",
    "from sklearn.linear_model import LinearRegression\n",
    "\n",
    "\n",
    "fig=plt.figure(figsize=(10, 7), dpi= 80, facecolor='w', edgecolor='k')\n",
    "#ax1 = fig.add_subplot(111)\n",
    "plt.scatter(ranks_f,ranks_b,label='backward vs forward')\n",
    "plt.scatter(ranks_f,ranks_rf,label='random forest vs forward')\n",
    "plt.scatter(ranks_b,ranks_rf,label='random forest vs backward')\n",
    "\n",
    "\n",
    "#plt.plot(ranks_f,ranks_b,label='backward vs forward',alpha=0.2)\n",
    "#plt.plot(ranks_f,ranks_rf,label='random forest vs forward',alpha=0.2)\n",
    "#plt.plot(ranks_b,ranks_rf,label='random forest vs backward',alpha=0.2)\n",
    "\n",
    "plt.legend(loc='center', bbox_to_anchor=(1.2, 0.2), ncol=1)\n",
    "plt.xlabel('Ranks of coefficients')\n",
    "plt.ylabel('Ranks of coefficients')\n",
    "plt.show()"
   ]
  },
  {
   "cell_type": "markdown",
   "metadata": {},
   "source": [
    "## Model Testing on the selected variables"
   ]
  },
  {
   "cell_type": "code",
   "execution_count": 15,
   "metadata": {
    "collapsed": false
   },
   "outputs": [],
   "source": [
    "X_train_best1 = X_train[list(inter_f_b)]\n",
    "X_test_best1 = X_test[list(inter_f_b)]\n",
    "X_train_best2 = X_train[list(X_train.columns[sig_b_ct])]\n",
    "X_test_best2 = X_test[list(X_train.columns[sig_b_ct])]\n",
    "from sklearn.model_selection import GridSearchCV\n",
    "cv_fold = KFold(n_splits=5, shuffle=True, random_state=9001)"
   ]
  },
  {
   "cell_type": "code",
   "execution_count": 16,
   "metadata": {
    "collapsed": true
   },
   "outputs": [],
   "source": [
    "# function to help compare the accuracy of models\n",
    "def score(model, X_train, y_train, X_test, y_test):\n",
    "    train_acc = model.score(X_train,y_train)\n",
    "    test_acc = model.score(X_test,y_test)\n",
    "    test_class0 = model.score(X_test[y_test==0], y_test[y_test==0])\n",
    "    test_class1 = model.score(X_test[y_test==1], y_test[y_test==1])\n",
    "    test_class2 = model.score(X_test[y_test==2], y_test[y_test==2])\n",
    "    return pd.Series([train_acc, test_acc, test_class0, test_class1, test_class2],\n",
    "                    index = ['Train accuracy', 'Test accuracy', \n",
    "                             \"Test accuracy CN\", \"Test accuracy CI\", \"Test accuracy AD\"])"
   ]
  },
  {
   "cell_type": "markdown",
   "metadata": {},
   "source": [
    "### Logistic Regression Model \n",
    "with common predictors from RF, Forward, and Backward selection"
   ]
  },
  {
   "cell_type": "code",
   "execution_count": 17,
   "metadata": {
    "collapsed": false
   },
   "outputs": [
    {
     "data": {
      "text/plain": [
       "Train accuracy      0.710145\n",
       "Test accuracy       0.691358\n",
       "Test accuracy CN    0.023810\n",
       "Test accuracy CI    0.935484\n",
       "Test accuracy AD    0.888889\n",
       "dtype: float64"
      ]
     },
     "execution_count": 17,
     "metadata": {},
     "output_type": "execute_result"
    }
   ],
   "source": [
    "model_ = LogisticRegression(penalty = 'l1', C=c)\n",
    "model_.fit(X_train_best2, y_train)\n",
    "model_.score(X_test_best2,y_test)\n",
    "score(model_, X_train_best2, y_train, X_test_best2, y_test)"
   ]
  },
  {
   "cell_type": "markdown",
   "metadata": {},
   "source": [
    "### Random Forest Classifier\n",
    "with common predictors from RF, Forward, and Backward selection"
   ]
  },
  {
   "cell_type": "code",
   "execution_count": 18,
   "metadata": {
    "collapsed": false
   },
   "outputs": [
    {
     "name": "stdout",
     "output_type": "stream",
     "text": [
      "Optimal number of trees 32, tree depth: 10\n",
      "\n",
      "\n",
      "Random Forest Training Accuracy:  0.995169082126\n",
      "Random Forest Test Accuracy:  0.753086419753\n"
     ]
    },
    {
     "data": {
      "text/plain": [
       "Train accuracy      0.995169\n",
       "Test accuracy       0.753086\n",
       "Test accuracy CN    0.476190\n",
       "Test accuracy CI    0.860215\n",
       "Test accuracy AD    0.814815\n",
       "dtype: float64"
      ]
     },
     "execution_count": 18,
     "metadata": {},
     "output_type": "execute_result"
    }
   ],
   "source": [
    "trees = [2**x for x in range(8)]  # 1, 2, 4, 8, 16, 32, ...\n",
    "depth = [2, 4, 6, 8, 10]\n",
    "parameters = {'n_estimators': trees,\n",
    "              'max_depth': depth}\n",
    "rf = RandomForestClassifier(random_state=9001)\n",
    "rf_cv = GridSearchCV(rf, parameters, cv=cv_fold)\n",
    "rf_cv.fit(X_train_best1, y_train)\n",
    "best_score = np.argmax(rf_cv.cv_results_['mean_test_score'])\n",
    "result = rf_cv.cv_results_['params'][best_score]\n",
    "opt_depth = result['max_depth']\n",
    "opt_tree = result['n_estimators']\n",
    "print(\"Optimal number of trees {}, tree depth: {}\".format(opt_tree, opt_depth))\n",
    "rf = RandomForestClassifier(n_estimators=opt_tree, max_depth=opt_depth, random_state=9001)\n",
    "rf.fit(X_train_best1, y_train)\n",
    "print('\\n')\n",
    "print('Random Forest Training Accuracy: ', rf.score(X_train_best1,y_train))\n",
    "print('Random Forest Test Accuracy: ', rf.score(X_test_best1,y_test))\n",
    "rf_score = score(rf, X_train_best1, y_train, X_test_best1, y_test)\n",
    "rf_score"
   ]
  },
  {
   "cell_type": "markdown",
   "metadata": {},
   "source": [
    "Since the test results of the selected variables from only bootstraping didn't perform as well as the random forest classifier with common selected variables, we choose to rely on the significant predictors selected by the random forest classifier. Let's interpret the selected predictors:\n",
    "\n",
    "- The tests completed excluded are: `FDG`, and `MOCA`, which means the results of those tests are not significant in the diagnosis, possibly because other assessments are testing similar aspects of the patients.\n",
    "\n",
    "- The factors that are significant themselves but insignificant in their slopes are:`MMSE`, `EcogSPMem`, `ADAS13`,`EcogPtMem`,`CSF_TAU`,`FAQ`,`EcogPtLang`, and `EcogSPPlan`, which indicates that tests associated with these factors only need to be conducted once at baseline visit and are not necessary in the following visits. Specifically, Mini-Mental State Examination(`MMSE`), Everyday Cognition test on Participant Memory and Language, Study Partner Memory and Plan(`EcogSPMem`, `EcogPtMem`,`EcogPtLang`,`EcogSPPlan`), Functional Activities Questionnaire in Older Adults with Dementia(`FAQ`), Alzheimer’s Disease Assessment Scale(`ADAS13`) and biosample test(`CSF_TAU`) only need to be checked at the first visit.\n",
    "\n",
    "- The factors that are significant in their slopes are: `AV45_slope`,\n",
    ",`EcogSPLang_slope`, `EcogPtLang_slope`, `WholeBrain_slope`, `MidTemp_slope`, `Fusiform_slope`, `FDG_slope`,`RAVLT_perc_forgetting_slope` and `ICV_slope`, which means the change in these parameters within two years after the first visit is quite important for the diagnosis. So testing these parameters on each subsequent visit is necessary. Specifically, The tests that need to be conducted in every visit are **Ecog** (Everyday Cognition)test,**AV45** test, **FDG** imaging test, **RAVLT_learning** test and **MRI** test.\n",
    "\n",
    "- Other significant demographic factors are: `PTAGE`(age), `PTMARRY_Married`, `PTMARRY_Never_married`, `PTETHCAT_Not_Hisp/Latino`, `PTRACCAT_Unknown`, and `PTRACCAT_Hawaiian/Other_PI`. \n",
    "\n",
    "\n",
    "Remarkably, `MMSE` appears in the all the variable selection procedures above. So we can conclude that it's a very essetial test in diagnosis of AD."
   ]
  },
  {
   "cell_type": "markdown",
   "metadata": {},
   "source": []
  },
  {
   "cell_type": "code",
   "execution_count": null,
   "metadata": {
    "collapsed": true
   },
   "outputs": [],
   "source": []
  }
 ],
 "metadata": {
  "kernelspec": {
   "display_name": "Python 3",
   "language": "python",
   "name": "python3"
  },
  "language_info": {
   "codemirror_mode": {
    "name": "ipython",
    "version": 3
   },
   "file_extension": ".py",
   "mimetype": "text/x-python",
   "name": "python",
   "nbconvert_exporter": "python",
   "pygments_lexer": "ipython3",
   "version": "3.6.0"
  }
 },
 "nbformat": 4,
 "nbformat_minor": 2
}
