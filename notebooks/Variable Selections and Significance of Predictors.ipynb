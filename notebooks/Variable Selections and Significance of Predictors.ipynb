{
 "cells": [
  {
   "cell_type": "code",
   "execution_count": 99,
   "metadata": {
    "collapsed": true
   },
   "outputs": [],
   "source": [
    "import numpy as np\n",
    "import pandas as pd\n",
    "from sklearn.ensemble import RandomForestClassifier\n",
    "from sklearn.linear_model import LogisticRegressionCV\n",
    "from sklearn.linear_model import LogisticRegression\n",
    "from sklearn.model_selection import cross_val_score\n",
    "from sklearn.model_selection import KFold"
   ]
  },
  {
   "cell_type": "markdown",
   "metadata": {},
   "source": [
    "## Load data"
   ]
  },
  {
   "cell_type": "code",
   "execution_count": 2,
   "metadata": {
    "collapsed": true
   },
   "outputs": [],
   "source": [
    "df_train = pd.read_csv(\"data/ADNIMERGE_train.csv\")\n",
    "df_test = pd.read_csv(\"data/ADNIMERGE_test.csv\")"
   ]
  },
  {
   "cell_type": "code",
   "execution_count": 3,
   "metadata": {
    "collapsed": true
   },
   "outputs": [],
   "source": [
    "X_train = df_train.drop(['RID', 'DX_bl'], axis=1).copy()\n",
    "y_train = df_train['DX_bl'].copy()\n",
    "X_test = df_test.drop(['RID', 'DX_bl'], axis=1).copy()\n",
    "y_test = df_test['DX_bl'].copy()"
   ]
  },
  {
   "cell_type": "markdown",
   "metadata": {},
   "source": [
    "## Significance of Predictors"
   ]
  },
  {
   "cell_type": "markdown",
   "metadata": {},
   "source": [
    "We would like to find out the most significant variables in the model. These variables have the strongest predicting power, and are thus the most useful in the diagnosis of Alzheimer's disease. Identifying these variables can eliminate the number of tests a patient has to go through to get an accurate diagnosis. \n",
    "\n",
    "For logistic regression with l1 regularization, we used bootstraping (1000 iterations) to find the most significant predictors. For random forest, we chcked the returned attribute `feature_importances_`."
   ]
  },
  {
   "cell_type": "markdown",
   "metadata": {},
   "source": [
    "### Bootstrap"
   ]
  },
  {
   "cell_type": "code",
   "execution_count": 38,
   "metadata": {
    "collapsed": false
   },
   "outputs": [
    {
     "name": "stdout",
     "output_type": "stream",
     "text": [
      "Most significant coefficients:  5\n",
      "Index(['ADAS13', 'MMSE', 'RAVLT_immediate', 'RAVLT_forgetting', 'FAQ'], dtype='object')\n"
     ]
    }
   ],
   "source": [
    "log_l1 = LogisticRegressionCV(penalty = 'l1', solver = 'liblinear')\n",
    "log_l1.fit(X_train,y_train)\n",
    "c = log_l1.C_[0]\n",
    "\n",
    "iterations = 200\n",
    "boot = np.zeros((X_train.shape[1], iterations))\n",
    "for i in range(iterations):\n",
    "    seed = 2*i\n",
    "    boot_rows = np.random.choice(range(X_train.shape[0]),\n",
    "                                 size=X_train.shape[0], replace=True)\n",
    "    X_train_boot = X_train.values[boot_rows]\n",
    "    y_train_boot = y_train.values[boot_rows]\n",
    "    model_boot = LogisticRegression(penalty = 'l1', C=c)\n",
    "    model_boot.fit(X_train_boot, y_train_boot)\n",
    "    boot[:,i] = model_boot.coef_[2,:]\n",
    "    \n",
    "boot_ci_upper = np.percentile(boot, 95, axis=1)\n",
    "boot_ci_lower = np.percentile(boot, 5, axis=1)\n",
    "sig_b_ct = []\n",
    "for i in range(X_train.shape[1]):\n",
    "    if boot_ci_upper[i]<0 or boot_ci_lower[i]>0:\n",
    "        sig_b_ct.append(i)\n",
    "        \n",
    "print(\"Most significant coefficients: \",len(sig_b_ct))\n",
    "print(X_train.columns[sig_b_ct])"
   ]
  },
  {
   "cell_type": "markdown",
   "metadata": {},
   "source": [
    "Surprisingly, we only have 5 significant predictors using bootstrap method and all of them are cognitive assessments which don't cost as much as brain imaing tests. Specifically, the significant assessments are: \n",
    "- **`ADAS13`**: Alzheimer’s Disease Assessment Scale\n",
    "- **`MMSE`**: Mini-Mental State Examination\n",
    "- **`RAVLT_immediate`**: Rey Auditory Verbal Learning Test (immediate??)\n",
    "- **`RAVLT_forgetting`**: Rey Auditory Verbal Learning Test (forgetting??)\n",
    "- **`FAQ`**: Functional Activities Questionnaire in Older Adults with Dementia. \n",
    "We found this result a bit doubtful because no brain imaging tests are picked as significant predictors while studies have shown the great important role of brain imaging in diagnosing Alzheimer's Disease. However, if other models also give similar result, patients are likely to save a lot of money and time. "
   ]
  },
  {
   "cell_type": "markdown",
   "metadata": {},
   "source": [
    "### Feature importance"
   ]
  },
  {
   "cell_type": "code",
   "execution_count": 116,
   "metadata": {
    "collapsed": false
   },
   "outputs": [
    {
     "name": "stdout",
     "output_type": "stream",
     "text": [
      "The most important 69 features:\n",
      "['PTGENDER' 'PTEDUCAT' 'PTRACCAT_Asian' 'PTRACCAT_Black'\n",
      " 'PTETHCAT_Not_Hisp/Latino' 'PTMARRY_Never_married' 'PTMARRY_Widowed'\n",
      " 'APOE4' 'CSF_ABETA' 'CSF_TAU' 'CSF_PTAU' 'FDG' 'FDG_slope' 'AV45'\n",
      " 'AV45_slope' 'ADAS13' 'ADAS13_slope' 'MMSE' 'MMSE_slope' 'RAVLT_immediate'\n",
      " 'RAVLT_immediate_slope' 'RAVLT_learning' 'RAVLT_learning_slope'\n",
      " 'RAVLT_forgetting' 'RAVLT_forgetting_slope' 'RAVLT_perc_forgetting'\n",
      " 'RAVLT_perc_forgetting_slope' 'MOCA' 'MOCA_slope' 'EcogPtMem'\n",
      " 'EcogPtMem_slope' 'EcogPtLang' 'EcogPtLang_slope' 'EcogPtVisspat'\n",
      " 'EcogPtVisspat_slope' 'EcogPtPlan' 'EcogPtPlan_slope' 'EcogPtOrgan'\n",
      " 'EcogPtOrgan_slope' 'EcogPtDivatt' 'EcogPtDivatt_slope' 'EcogSPMem'\n",
      " 'EcogSPMem_slope' 'EcogSPLang' 'EcogSPLang_slope' 'EcogSPVisspat'\n",
      " 'EcogSPVisspat_slope' 'EcogSPPlan' 'EcogSPPlan_slope' 'EcogSPOrgan'\n",
      " 'EcogSPOrgan_slope' 'EcogSPDivatt' 'EcogSPDivatt_slope' 'FAQ' 'FAQ_slope'\n",
      " 'Ventricles' 'Ventricles_slope' 'Hippocampus' 'Hippocampus_slope'\n",
      " 'WholeBrain' 'WholeBrain_slope' 'Entorhinal' 'Entorhinal_slope' 'Fusiform'\n",
      " 'Fusiform_slope' 'MidTemp' 'MidTemp_slope' 'ICV' 'ICV_slope']\n"
     ]
    }
   ],
   "source": [
    "rf_best = RandomForestClassifier(n_estimators=16, max_depth=8,random_state=9001)\n",
    "rf_best.fit(X_train, y_train)\n",
    "imp_features = np.array(X_train.columns)[rf_best.feature_importances_!=0]\n",
    "print(\"The most important {} features:\".format(len(imp_features)))\n",
    "print(imp_features)"
   ]
  },
  {
   "cell_type": "code",
   "execution_count": 118,
   "metadata": {
    "collapsed": false
   },
   "outputs": [
    {
     "data": {
      "text/plain": [
       "array([ 0.00087767,  0.0020059 ,  0.00143294,  0.0005828 ,  0.        ,\n",
       "        0.        ,  0.        ,  0.        ,  0.00050201,  0.        ,\n",
       "        0.00060242,  0.00118299,  0.0028174 ,  0.01467083,  0.01258936,\n",
       "        0.00697837,  0.02477119,  0.01673831,  0.01182501,  0.01354028,\n",
       "        0.04849771,  0.01839468,  0.11457045,  0.03074313,  0.01879795,\n",
       "        0.00570639,  0.00371095,  0.00934691,  0.0062503 ,  0.0101368 ,\n",
       "        0.01614024,  0.00521234,  0.0140865 ,  0.01044318,  0.0458762 ,\n",
       "        0.01264462,  0.02719033,  0.00866986,  0.00973303,  0.00541363,\n",
       "        0.0076151 ,  0.0139272 ,  0.01034697,  0.01114828,  0.01117674,\n",
       "        0.01566404,  0.02683175,  0.02202945,  0.01870235,  0.01569833,\n",
       "        0.02035809,  0.00540625,  0.02188036,  0.00703498,  0.02768822,\n",
       "        0.01459536,  0.00260903,  0.00995034,  0.0692315 ,  0.01662022,\n",
       "        0.00934408,  0.00954604,  0.01622423,  0.00360556,  0.00575205,\n",
       "        0.01142386,  0.00604743,  0.00299329,  0.01299582,  0.01047768,\n",
       "        0.00689983,  0.00346899,  0.01058729,  0.0094366 ])"
      ]
     },
     "execution_count": 118,
     "metadata": {},
     "output_type": "execute_result"
    }
   ],
   "source": [
    "rf_best.feature_importances_"
   ]
  },
  {
   "cell_type": "code",
   "execution_count": 122,
   "metadata": {
    "collapsed": false
   },
   "outputs": [
    {
     "data": {
      "image/png": "[encoded data removed]",
      "text/plain": [
       "<matplotlib.figure.Figure at 0x11f39c780>"
      ]
     },
     "metadata": {},
     "output_type": "display_data"
    }
   ],
   "source": [
    "pd.Series(rf_best.feature_importances_).sort_values().plot(kind='barh')\n",
    "plt.show()"
   ]
  },
  {
   "cell_type": "code",
   "execution_count": 68,
   "metadata": {
    "collapsed": false
   },
   "outputs": [
    {
     "data": {
      "text/plain": [
       "array([66, 63, 64, 68, 74, 74, 74, 74, 69, 74, 67, 65, 61, 22, 29, 48,  9,\n",
       "       16, 30, 26,  3, 15,  1,  5, 13, 53, 57, 43, 50, 38, 19, 56, 24, 36,\n",
       "        4, 28,  7, 45, 40, 54, 46, 25, 37, 33, 32, 21,  8, 10, 14, 20, 12,\n",
       "       55, 11, 47,  6, 23, 62, 39,  2, 17, 44, 41, 18, 58, 52, 31, 51, 60,\n",
       "       27, 35, 49, 59, 34, 42])"
      ]
     },
     "execution_count": 68,
     "metadata": {},
     "output_type": "execute_result"
    }
   ],
   "source": [
    "imp = rf_best.feature_importances_\n",
    "ranks_rf = np.searchsorted(np.sort(imp), imp)\n",
    "ranks_rf=len(ranks_rf)-ranks_rf\n",
    "ranks_rf\n"
   ]
  },
  {
   "cell_type": "code",
   "execution_count": 76,
   "metadata": {
    "collapsed": false,
    "scrolled": false
   },
   "outputs": [
    {
     "name": "stdout",
     "output_type": "stream",
     "text": [
      "Ranked Predictors by Random Forest Feature Importance:\n",
      "\n",
      "['MMSE', 'FAQ', 'ADAS13', 'EcogPtMem', 'MMSE_slope', 'EcogSPOrgan', 'EcogPtLang', 'EcogSPMem', 'FDG', 'EcogSPMem_slope', 'EcogSPPlan', 'EcogSPVisspat', 'RAVLT_immediate', 'EcogSPLang', 'ADAS13_slope', 'FDG_slope', 'FAQ_slope', 'Hippocampus', 'RAVLT_perc_forgetting', 'EcogSPLang_slope', 'EcogPtDivatt_slope', 'CSF_ABETA', 'EcogSPOrgan_slope', 'MOCA', 'EcogPtPlan_slope', 'AV45_slope', 'Fusiform', 'EcogPtMem_slope', 'CSF_TAU', 'AV45', 'WholeBrain_slope', 'EcogPtDivatt', 'EcogPtOrgan_slope', 'ICV', 'Fusiform_slope', 'MOCA_slope', 'EcogPtOrgan', 'RAVLT_forgetting_slope', 'EcogSPDivatt_slope', 'EcogPtVisspat', 'Ventricles_slope', 'ICV_slope', 'RAVLT_learning_slope', 'Ventricles', 'EcogPtLang_slope', 'EcogPtPlan', 'EcogSPPlan_slope', 'CSF_PTAU', 'MidTemp', 'RAVLT_forgetting', 'Entorhinal', 'WholeBrain', 'RAVLT_immediate_slope', 'EcogPtVisspat_slope', 'EcogSPVisspat_slope', 'RAVLT_perc_forgetting_slope', 'RAVLT_learning', 'Hippocampus_slope', 'MidTemp_slope', 'Entorhinal_slope', 'APOE4', 'EcogSPDivatt', 'PTEDUCAT', 'PTRACCAT_Asian', 'PTMARRY_Widowed', 'PTGENDER', 'PTMARRY_Never_married', 'PTRACCAT_Black', 'PTETHCAT_Not_Hisp/Latino', None, None, None, None, 'PTMARRY_Married']\n"
     ]
    }
   ],
   "source": [
    "ranked_x_rf = [None]*len(X_train.columns)\n",
    "for i, rank in enumerate(ranks_rf):\n",
    "    ranked_x_rf[rank-1] = X_train.columns[i]\n",
    "print('Ranked Predictors by Random Forest Feature Importance:\\n')\n",
    "print(ranked_x_rf)"
   ]
  },
  {
   "cell_type": "markdown",
   "metadata": {},
   "source": [
    "Using random forest classifier, we ended up with 69 important features. \n",
    "Only `PTRACCAT_Hawaiian/Other_PI`,`PTRACCAT_More_than_one`, `PTRACCAT_Unknown`, `PTRACCAT_White`, `PTMARRY_Married` are not significant, all of which are indicators of race and marriage. Notably, among the most important predictors, `MMSE`, `FAQ`, and `ADAS13` appear again (also appeared in bootstraping result), which adds even more significance to these cognition tests."
   ]
  },
  {
   "cell_type": "markdown",
   "metadata": {},
   "source": [
    "## Forward and Backward Selection"
   ]
  },
  {
   "cell_type": "code",
   "execution_count": 105,
   "metadata": {
    "collapsed": true
   },
   "outputs": [],
   "source": [
    "def step_forwards_backwards(direction='forward'):\n",
    "    \n",
    "\n",
    "    \n",
    "    assert direction in ['forward', 'backward']\n",
    "\n",
    "    predictors = set(X_train.columns)\n",
    "    predictors_ls = list(X_train.columns)\n",
    "    selected_predictors = set() if direction=='forward' else set(predictors)\n",
    "    \n",
    "    n = X_train.shape[0]\n",
    "    best_acc = np.inf\n",
    "    \n",
    "    best_accuracy = []\n",
    "    best_models = []\n",
    "    \n",
    "    rank = 0\n",
    "    \n",
    "    if direction == 'forward':\n",
    "        ranks = [len(predictors_ls)-1]*len(predictors_ls)\n",
    "        X = X_train[list(selected_predictors)].values\n",
    "        while (True):\n",
    "            \n",
    "            possible_scores = []\n",
    "            possible_predictors = list(selected_predictors ^ predictors)\n",
    "            \n",
    "            if len(possible_predictors) == 0:\n",
    "                break\n",
    "                \n",
    "            for predictor in possible_predictors:\n",
    "                cv_fold = KFold(n_splits=3, shuffle=True, random_state=9001)\n",
    "                x_temp = np.concatenate([X, X_train[predictor].values.reshape(-1,1)], axis=1)\n",
    "                rf = RandomForestClassifier(n_estimators=16, max_depth=8,random_state=9001)\n",
    "                #rf.fit(x_temp, y_train)\n",
    "                scores = max(cross_val_score(rf, x_temp, y_train, cv=cv_fold))\n",
    "                #scores = rf.cross_val_score(x_temp, y_train)\n",
    "                possible_scores.append(scores)\n",
    "                \n",
    "            best_predictor_ix = np.argmax(possible_scores)\n",
    "            best_predictor = possible_predictors[best_predictor_ix]\n",
    "            ranks[predictors_ls.index(best_predictor)]=rank\n",
    "            \n",
    "            best_acc = np.max(possible_scores)\n",
    "            best_accuracy.append(best_acc)\n",
    "            \n",
    "            selected_predictors.add(best_predictor)            \n",
    "            X = np.concatenate([X, X_train[best_predictor].values.reshape(-1,1)], axis=1)\n",
    "            best_models.append(list(selected_predictors))\n",
    "            \n",
    "            rank += 1\n",
    "\n",
    "    else:\n",
    "        ranks = [0]*len(predictors_ls)\n",
    "        while (True):\n",
    "            possible_scores = []\n",
    "            possible_predictors = list(selected_predictors)\n",
    "\n",
    "            if len(possible_predictors) == 0:\n",
    "                break\n",
    "\n",
    "            for predictor in possible_predictors:\n",
    "                cv_fold = KFold(n_splits=3, shuffle=True, random_state=9001)                \n",
    "                X = np.concatenate([np.ones(n).reshape(-1,1), \n",
    "                                    X_train[list(selected_predictors - set([predictor]))].values], \n",
    "                                   axis=1)\n",
    "                if(X.shape[1] != 0):\n",
    "                    rf = RandomForestClassifier(n_estimators=16, max_depth=8,random_state=9001)\n",
    "                    #rf.fit(X, y_train)\n",
    "                    scores = max(cross_val_score(rf, X, y_train, cv=cv_fold))\n",
    "                    #scores = rf.cross_val_score(x_temp, y_train)\n",
    "                    possible_scores.append(scores)\n",
    "\n",
    "            best_predictor_ix = np.argmax(possible_scores)\n",
    "            best_predictor = possible_predictors[best_predictor_ix] \n",
    "            ranks[predictors_ls.index(best_predictor)]=len(predictors_ls)-rank-1\n",
    "\n",
    "            best_acc = possible_scores[best_predictor_ix]\n",
    "            selected_predictors.discard(best_predictor)\n",
    "            \n",
    "            best_accuracy.append(best_acc)\n",
    "            best_models.append(list(selected_predictors))\n",
    "            \n",
    "            rank += 1\n",
    "            \n",
    "    index_of_best_accuracy = np.argmax(best_accuracy)\n",
    "\n",
    "    return (best_models[index_of_best_accuracy],ranks)"
   ]
  },
  {
   "cell_type": "code",
   "execution_count": 106,
   "metadata": {
    "collapsed": false
   },
   "outputs": [],
   "source": [
    "predictors_forward,ranks_f = step_forwards_backwards(direction='forward')\n",
    "predictors_backward,ranks_b = step_forwards_backwards(direction='backward')"
   ]
  },
  {
   "cell_type": "code",
   "execution_count": 107,
   "metadata": {
    "collapsed": false
   },
   "outputs": [
    {
     "name": "stdout",
     "output_type": "stream",
     "text": [
      "Predictors selected by forward selection ( 14  predictors): \n",
      " ['MMSE', 'EcogSPMem', 'EcogSPLang', 'FDG_slope', 'EcogPtMem', 'EcogPtVisspat_slope', 'CSF_TAU', 'WholeBrain_slope', 'RAVLT_learning_slope', 'FAQ_slope', 'EcogPtOrgan_slope', 'EcogSPMem_slope', 'Hippocampus', 'RAVLT_forgetting_slope'] \n",
      " [65, 68, 17, 47, 15, 46, 30, 69, 51, 67, 27, 38, 60, 31, 5, 41, 56, 10, 28, 33, 22, 20, 0, 48, 53, 49, 44, 3, 29, 8, 40, 23, 19, 39, 6, 73, 35, 26, 50, 12, 70, 71, 52, 13, 18, 64, 1, 7, 4, 25, 57, 37, 16, 61, 54, 58, 45, 21, 42, 11, 59, 43, 9, 72, 66, 2, 63, 24, 55, 34, 32, 14, 62, 36]\n",
      "\n",
      "-----------------------------------------\n",
      "\n",
      "Predictors selected by backward selection: ( 21  predictors): \n",
      " ['PTRACCAT_Hawaiian/Other_PI', 'MMSE', 'FDG_slope', 'RAVLT_forgetting', 'WholeBrain', 'EcogPtDivatt_slope', 'Fusiform_slope', 'EcogPtLang', 'EcogSPMem_slope', 'PTMARRY_Married', 'CSF_PTAU', 'WholeBrain_slope', 'FAQ_slope', 'AV45_slope', 'FAQ', 'PTRACCAT_White', 'EcogSPPlan_slope', 'Fusiform', 'EcogSPLang', 'EcogSPOrgan_slope', 'APOE4'] \n",
      " [57, 72, 63, 62, 9, 55, 27, 18, 21, 19, 26, 40, 16, 25, 29, 5, 65, 1, 45, 13, 30, 59, 0, 49, 70, 61, 37, 53, 15, 39, 23, 50, 42, 32, 67, 34, 6, 46, 36, 22, 35, 54, 69, 73, 38, 7, 56, 20, 10, 64, 24, 58, 41, 11, 33, 14, 48, 66, 3, 2, 51, 28, 31, 43, 8, 12, 52, 60, 4, 17, 47, 68, 71, 44]\n"
     ]
    }
   ],
   "source": [
    "print(\"Predictors selected by forward selection (\", \n",
    "      len(predictors_forward), \" predictors): \\n\", predictors_forward,'\\n',ranks_f)\n",
    "print(\"\\n-----------------------------------------\\n\")\n",
    "print(\"Predictors selected by backward selection: (\", \n",
    "      len(predictors_backward), \" predictors): \\n\", predictors_backward,'\\n',ranks_b)"
   ]
  },
  {
   "cell_type": "code",
   "execution_count": 108,
   "metadata": {
    "collapsed": false
   },
   "outputs": [
    {
     "name": "stdout",
     "output_type": "stream",
     "text": [
      "Ranked Predictors by Forward Selection:\n",
      "\n",
      "['MMSE', 'EcogSPMem', 'WholeBrain_slope', 'RAVLT_learning_slope', 'EcogSPLang', 'CSF_TAU', 'EcogPtMem', 'EcogSPMem_slope', 'RAVLT_forgetting_slope', 'Hippocampus', 'FDG_slope', 'FAQ_slope', 'EcogPtVisspat_slope', 'EcogPtOrgan_slope', 'MidTemp_slope', 'PTRACCAT_Hawaiian/Other_PI', 'EcogSPPlan', 'PTRACCAT_Asian', 'EcogPtDivatt', 'MOCA', 'ADAS13_slope', 'EcogSPDivatt_slope', 'ADAS13', 'RAVLT_perc_forgetting_slope', 'Entorhinal_slope', 'EcogSPLang_slope', 'EcogPtLang_slope', 'PTMARRY_Never_married', 'AV45', 'RAVLT_forgetting', 'PTRACCAT_Unknown', 'CSF_ABETA', 'MidTemp', 'AV45_slope', 'Fusiform_slope', 'EcogPtLang', 'ICV_slope', 'EcogSPVisspat_slope', 'PTMARRY_Widowed', 'MOCA_slope', 'RAVLT_perc_forgetting', 'CSF_PTAU', 'FAQ', 'Ventricles_slope', 'RAVLT_learning', 'EcogSPDivatt', 'PTRACCAT_More_than_one', 'PTRACCAT_Black', 'MMSE_slope', 'RAVLT_immediate_slope', 'EcogPtVisspat', 'PTETHCAT_Not_Hisp/Latino', 'EcogPtOrgan', 'RAVLT_immediate', 'EcogSPOrgan', 'Fusiform', 'FDG', 'EcogSPVisspat', 'EcogSPOrgan_slope', 'Ventricles', 'APOE4', 'EcogSPPlan_slope', 'ICV', 'Entorhinal', 'EcogPtDivatt_slope', 'PTGENDER', 'WholeBrain', 'PTMARRY_Married', 'PTEDUCAT', 'PTRACCAT_White', 'EcogPtPlan', 'EcogPtPlan_slope', 'Hippocampus_slope', 'EcogPtMem_slope']\n"
     ]
    }
   ],
   "source": [
    "ranked_x_forward = [None]*len(X_train.columns)\n",
    "for i, rank in enumerate(ranks_f):\n",
    "    ranked_x_forward[rank] = X_train.columns[i]\n",
    "print('Ranked Predictors by Forward Selection:\\n')\n",
    "print(ranked_x_forward)"
   ]
  },
  {
   "cell_type": "code",
   "execution_count": 109,
   "metadata": {
    "collapsed": false
   },
   "outputs": [
    {
     "name": "stdout",
     "output_type": "stream",
     "text": [
      "Ranked Predictors by Backward Selection:\n",
      "\n",
      "['MMSE', 'FDG_slope', 'FAQ_slope', 'FAQ', 'Fusiform', 'CSF_PTAU', 'EcogPtLang', 'EcogPtDivatt_slope', 'WholeBrain', 'PTRACCAT_Hawaiian/Other_PI', 'EcogSPLang', 'EcogSPPlan_slope', 'WholeBrain_slope', 'AV45_slope', 'EcogSPOrgan_slope', 'RAVLT_forgetting', 'APOE4', 'Fusiform_slope', 'PTRACCAT_White', 'PTMARRY_Married', 'EcogSPMem_slope', 'PTETHCAT_Not_Hisp/Latino', 'EcogPtVisspat_slope', 'RAVLT_perc_forgetting', 'EcogSPVisspat', 'CSF_ABETA', 'PTMARRY_Never_married', 'PTRACCAT_Unknown', 'Ventricles_slope', 'CSF_TAU', 'ADAS13', 'Hippocampus', 'MOCA_slope', 'EcogSPOrgan', 'EcogPtMem_slope', 'EcogPtPlan', 'EcogPtVisspat', 'RAVLT_learning', 'EcogPtDivatt', 'RAVLT_forgetting_slope', 'PTMARRY_Widowed', 'EcogSPPlan', 'MOCA', 'Hippocampus_slope', 'ICV_slope', 'AV45', 'EcogPtLang_slope', 'MidTemp', 'EcogSPDivatt', 'MMSE_slope', 'RAVLT_perc_forgetting_slope', 'Ventricles', 'Entorhinal', 'RAVLT_learning_slope', 'EcogPtPlan_slope', 'PTRACCAT_More_than_one', 'EcogSPMem', 'PTGENDER', 'EcogSPVisspat_slope', 'ADAS13_slope', 'Entorhinal_slope', 'RAVLT_immediate_slope', 'PTRACCAT_Black', 'PTRACCAT_Asian', 'EcogSPLang_slope', 'FDG', 'EcogSPDivatt_slope', 'EcogPtMem', 'MidTemp_slope', 'EcogPtOrgan', 'RAVLT_immediate', 'ICV', 'PTEDUCAT', 'EcogPtOrgan_slope']\n"
     ]
    }
   ],
   "source": [
    "ranked_x_backward = [None]*len(X_train.columns)\n",
    "for i, rank in enumerate(ranks_b):\n",
    "    ranked_x_backward[rank] = X_train.columns[i]\n",
    "print('Ranked Predictors by Backward Selection:\\n')\n",
    "print(ranked_x_backward)"
   ]
  },
  {
   "cell_type": "markdown",
   "metadata": {},
   "source": [
    "Backward selection chose a bit more predictors than forward selection.\n",
    "\n",
    "By comparing the ranks of predictors generated by stepwise selections, `EcogSPMem`, `FDG`,`MMSE`,``\n",
    "We can see that genetic analysis such as `APOE4`, CSF biosamples, neuropsychological tests and MRI are the most important varibles in predicting AD. However, only a few variables we get from each of tests are useful, so we do not need to focus on all the testing results. \n",
    "\n",
    "Also, notably, we found that it is necessary to take the cognitive assessments and perform brain scan multiple times to check the progress of cognitive decline and brain atrophy. These are very indicative of AD. For the other categories, one test is sufficient for the diagnosis of AD. Going through the same test multiple times will not increase predictability."
   ]
  },
  {
   "cell_type": "code",
   "execution_count": 110,
   "metadata": {
    "collapsed": false
   },
   "outputs": [
    {
     "name": "stdout",
     "output_type": "stream",
     "text": [
      "Common significant predictors by random forest, forward, and backward selection:\n",
      "\n",
      "{'MMSE', 'EcogSPLang', 'WholeBrain_slope', 'FAQ_slope', 'EcogSPMem_slope', 'FDG_slope'}\n"
     ]
    }
   ],
   "source": [
    "forward = set(predictors_forward)\n",
    "backward = set(predictors_backward)\n",
    "inter_f_b = forward.intersection(backward)\n",
    "inter_f_b_rf = inter_f_b.intersection(imp_features)\n",
    "print('Common significant predictors by random forest, forward, and backward selection:\\n')\n",
    "print(inter_f_b_rf)"
   ]
  },
  {
   "cell_type": "markdown",
   "metadata": {},
   "source": [
    "The tests completed excluded are: `AV45`, `MMSE`, `MOCA`, and `FAQ`. Since `MMSE` and `FAQ` are selected as significant predictors by bootstraping, it's more reaonable to conclude that only `AV45` and `MOCA` tests are not necessary for the diagnosis of AD.\n",
    "\n",
    "The factors that are significant themselves but insignificant in their slopes are:`MOCA`, `EcogPtLang`, `EcogSPPlan`, `EcogPtDivatt`, `EcogSPOrgan`, and `Fusiform`, which indicates that tests associated with these factors only need to be conducted once at baseline visit and are not necessary in the following visits. Specifically, MOCA(Montreal Cognitive Assessment) test, Everyday Cognition test on Participant Language, Study Partner Plan, \n",
    "\n",
    "The factors that are significant only in their slopes are: `ADAS13`,\n",
    "`EcogPlan`, `EcogSPLang`, and `ICV`, which means the change in these parameters within two years after the first visit is quite important for the diagnosis. So testing these parameters on each visit is necessary. Specifically, the factors selected are from **Ecog** (Everyday Cognition)test and **MRI** test.\n",
    "\n",
    "Other significant demographic factors: `PTEDUCAT`, and `PTETHCAT_Not_Hisp/Latino`\n"
   ]
  },
  {
   "cell_type": "code",
   "execution_count": 115,
   "metadata": {
    "collapsed": false,
    "scrolled": false
   },
   "outputs": [
    {
     "data": {
      "image/png": "[encoded data removed]",
      "text/plain": [
       "<matplotlib.figure.Figure at 0x11f8a39b0>"
      ]
     },
     "metadata": {},
     "output_type": "display_data"
    }
   ],
   "source": [
    "import matplotlib.pyplot as plt\n",
    "from sklearn.linear_model import LinearRegression\n",
    "\n",
    "\n",
    "fig=plt.figure(figsize=(10, 10), dpi= 80, facecolor='w', edgecolor='k')\n",
    "#ax1 = fig.add_subplot(111)\n",
    "plt.scatter(ranks_f,ranks_b,label='backward vs forward')\n",
    "plt.scatter(ranks_f,ranks_rf,label='random forest vs forward')\n",
    "plt.scatter(ranks_b,ranks_rf,label='random forest vs backward')\n",
    "\n",
    "\n",
    "\n",
    "#plt.plot(ranks_f,ranks_b,label='backward vs forward',alpha=0.2)\n",
    "#plt.plot(ranks_f,ranks_rf,label='random forest vs forward',alpha=0.2)\n",
    "#plt.plot(ranks_b,ranks_rf,label='random forest vs backward',alpha=0.2)\n",
    "\n",
    "plt.legend(loc='center', bbox_to_anchor=(1.2, 0.2), ncol=1)\n",
    "plt.xlabel('Ranks of coefficients')\n",
    "plt.ylabel('Ranks of coefficients')\n",
    "plt.show()"
   ]
  },
  {
   "cell_type": "markdown",
   "metadata": {},
   "source": [
    "### NOT ALIGNED AT ALL...."
   ]
  },
  {
   "cell_type": "code",
   "execution_count": 142,
   "metadata": {
    "collapsed": true
   },
   "outputs": [],
   "source": [
    "def rank_compare(rank_list_1, rank_list_2):\n",
    "    N = len(rank_list_1)\n",
    "    sim = 0\n",
    "    for i in range(N):\n",
    "        for j in range(i, N):\n",
    "            sim += ( (rank_list_1[i] > rank_list_1[j]) == (rank_list_2[i] > rank_list_2[j]) )\n",
    "    sim /= N*(N-1) / 2\n",
    "    return sim"
   ]
  },
  {
   "cell_type": "code",
   "execution_count": 144,
   "metadata": {
    "collapsed": false
   },
   "outputs": [
    {
     "data": {
      "text/plain": [
       "0.73333333333333328"
      ]
     },
     "execution_count": 144,
     "metadata": {},
     "output_type": "execute_result"
    }
   ],
   "source": [
    "rank_compare(ranks_rf[:10], ranks_f[:10])"
   ]
  },
  {
   "cell_type": "code",
   "execution_count": null,
   "metadata": {
    "collapsed": true
   },
   "outputs": [],
   "source": []
  }
 ],
 "metadata": {
  "kernelspec": {
   "display_name": "Python 3",
   "language": "python",
   "name": "python3"
  },
  "language_info": {
   "codemirror_mode": {
    "name": "ipython",
    "version": 3
   },
   "file_extension": ".py",
   "mimetype": "text/x-python",
   "name": "python",
   "nbconvert_exporter": "python",
   "pygments_lexer": "ipython3",
   "version": "3.6.0"
  }
 },
 "nbformat": 4,
 "nbformat_minor": 2
}
